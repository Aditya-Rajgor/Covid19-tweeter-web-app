{
 "cells": [
  {
   "cell_type": "markdown",
   "id": "governmental-deputy",
   "metadata": {},
   "source": [
    "# Data Analysis of Emergency Tweets in India"
   ]
  },
  {
   "cell_type": "code",
   "execution_count": 1,
   "id": "specified-perception",
   "metadata": {},
   "outputs": [],
   "source": [
    "import os\n",
    "import json\n",
    "try:\n",
    "    import pandas as pd\n",
    "except:\n",
    "    os.system('pip3 install pandas')\n",
    "    import pandas as pd\n",
    "try:\n",
    "    import snscrape\n",
    "except:\n",
    "    os.system('pip3 install snscrape')\n",
    "from tqdm import tqdm\n",
    "from datetime import date"
   ]
  },
  {
   "cell_type": "code",
   "execution_count": 8,
   "id": "anonymous-rebel",
   "metadata": {},
   "outputs": [],
   "source": [
    "test = ['plazma','oxygen']"
   ]
  },
  {
   "cell_type": "code",
   "execution_count": 10,
   "id": "insured-peoples",
   "metadata": {},
   "outputs": [
    {
     "name": "stdout",
     "output_type": "stream",
     "text": [
      "\"plazma\" OR \"oxygen\"\n"
     ]
    }
   ],
   "source": [
    "if len(test)==2:\n",
    "    test_string='\"'+test[0]+'\"'+' OR '+'\"'+test[1]+'\"'\n",
    "    print(test_string)"
   ]
  },
  {
   "cell_type": "code",
   "execution_count": 32,
   "id": "scheduled-metro",
   "metadata": {},
   "outputs": [],
   "source": [
    "query = 'snscrape --jsonl --max-results 10000 twitter-search \"((\"covid\" OR \"corona\" OR \"coronavirus\" OR \"positive\" OR \"ve\") AND \"Ahmedabad\") AND(((\"need\" OR \"help\" OR \"required\" OR \"require\" OR \"want\") AND \"remdesvir\") AND (\"contact\" OR \"mobile\" OR \"call\" OR \"number\" OR \"91\" OR \"message\" OR \"phone\" OR \"num\" OR \"tel\")) -Available since:2021-03-01 until:2021-04-24\" > COVID_data.json'"
   ]
  },
  {
   "cell_type": "code",
   "execution_count": 59,
   "id": "finite-sharp",
   "metadata": {},
   "outputs": [],
   "source": [
    "s ='snscrape --jsonl --max-results 1000 twitter-search \"((\"covid\" OR \"corona\" OR \"coronavirus\" OR \"positive\" OR \"ve\") AND \"Delhi\") AND (((\"need\" OR \"help\" OR \"required\" OR \"require\" OR \"want\") AND \"oxygen\") AND (\"contact\" OR \"mobile\" OR \"call\" OR \"number\" OR \"91\" OR \"message\" OR \"phone\" OR \"num\" OR \"tel\")) since:2021-03-01 until:2021-4-24\" > COVID_data.json'"
   ]
  },
  {
   "cell_type": "code",
   "execution_count": 60,
   "id": "advance-syndication",
   "metadata": {},
   "outputs": [
    {
     "data": {
      "text/plain": [
       "0"
      ]
     },
     "execution_count": 60,
     "metadata": {},
     "output_type": "execute_result"
    }
   ],
   "source": [
    "os.system(s)"
   ]
  },
  {
   "cell_type": "code",
   "execution_count": 61,
   "id": "comparable-cleaners",
   "metadata": {},
   "outputs": [
    {
     "data": {
      "text/html": [
       "<div>\n",
       "<style scoped>\n",
       "    .dataframe tbody tr th:only-of-type {\n",
       "        vertical-align: middle;\n",
       "    }\n",
       "\n",
       "    .dataframe tbody tr th {\n",
       "        vertical-align: top;\n",
       "    }\n",
       "\n",
       "    .dataframe thead th {\n",
       "        text-align: right;\n",
       "    }\n",
       "</style>\n",
       "<table border=\"1\" class=\"dataframe\">\n",
       "  <thead>\n",
       "    <tr style=\"text-align: right;\">\n",
       "      <th></th>\n",
       "      <th>url</th>\n",
       "      <th>date</th>\n",
       "      <th>content</th>\n",
       "      <th>renderedContent</th>\n",
       "      <th>id</th>\n",
       "      <th>user</th>\n",
       "      <th>outlinks</th>\n",
       "      <th>tcooutlinks</th>\n",
       "      <th>replyCount</th>\n",
       "      <th>retweetCount</th>\n",
       "      <th>...</th>\n",
       "      <th>quoteCount</th>\n",
       "      <th>conversationId</th>\n",
       "      <th>lang</th>\n",
       "      <th>source</th>\n",
       "      <th>sourceUrl</th>\n",
       "      <th>sourceLabel</th>\n",
       "      <th>media</th>\n",
       "      <th>retweetedTweet</th>\n",
       "      <th>quotedTweet</th>\n",
       "      <th>mentionedUsers</th>\n",
       "    </tr>\n",
       "  </thead>\n",
       "  <tbody>\n",
       "    <tr>\n",
       "      <th>0</th>\n",
       "      <td>https://twitter.com/midhatkidwai/status/138574...</td>\n",
       "      <td>2021-04-23 23:45:18+00:00</td>\n",
       "      <td>🆘 Need an oxygen bed for 72+ Covid suspected p...</td>\n",
       "      <td>🆘 Need an oxygen bed for 72+ Covid suspected p...</td>\n",
       "      <td>1385741601356402688</td>\n",
       "      <td>{'username': 'midhatkidwai', 'displayname': 'M...</td>\n",
       "      <td>[]</td>\n",
       "      <td>[]</td>\n",
       "      <td>11</td>\n",
       "      <td>91</td>\n",
       "      <td>...</td>\n",
       "      <td>1</td>\n",
       "      <td>1385741601356402688</td>\n",
       "      <td>en</td>\n",
       "      <td>&lt;a href=\"http://twitter.com/download/iphone\" r...</td>\n",
       "      <td>http://twitter.com/download/iphone</td>\n",
       "      <td>Twitter for iPhone</td>\n",
       "      <td>None</td>\n",
       "      <td>NaN</td>\n",
       "      <td>None</td>\n",
       "      <td>None</td>\n",
       "    </tr>\n",
       "    <tr>\n",
       "      <th>1</th>\n",
       "      <td>https://twitter.com/baladaisy08/status/1385737...</td>\n",
       "      <td>2021-04-23 23:28:23+00:00</td>\n",
       "      <td>Kiran bala Verma\\nCOVID positive \\nInfection s...</td>\n",
       "      <td>Kiran bala Verma\\nCOVID positive \\nInfection s...</td>\n",
       "      <td>1385737344884559875</td>\n",
       "      <td>{'username': 'baladaisy08', 'displayname': 'Da...</td>\n",
       "      <td>[]</td>\n",
       "      <td>[]</td>\n",
       "      <td>5</td>\n",
       "      <td>4</td>\n",
       "      <td>...</td>\n",
       "      <td>0</td>\n",
       "      <td>1385737344884559875</td>\n",
       "      <td>en</td>\n",
       "      <td>&lt;a href=\"http://twitter.com/download/iphone\" r...</td>\n",
       "      <td>http://twitter.com/download/iphone</td>\n",
       "      <td>Twitter for iPhone</td>\n",
       "      <td>None</td>\n",
       "      <td>NaN</td>\n",
       "      <td>None</td>\n",
       "      <td>[{'username': 'baladaisy08', 'displayname': 'D...</td>\n",
       "    </tr>\n",
       "    <tr>\n",
       "      <th>2</th>\n",
       "      <td>https://twitter.com/VIVEKKAUSHIK10/status/1385...</td>\n",
       "      <td>2021-04-23 23:26:59+00:00</td>\n",
       "      <td>@ArvindKejriwal @msisodia Patient Name: Hoinei...</td>\n",
       "      <td>@ArvindKejriwal @msisodia Patient Name: Hoinei...</td>\n",
       "      <td>1385736991032020994</td>\n",
       "      <td>{'username': 'VIVEKKAUSHIK10', 'displayname': ...</td>\n",
       "      <td>[]</td>\n",
       "      <td>[]</td>\n",
       "      <td>2</td>\n",
       "      <td>1</td>\n",
       "      <td>...</td>\n",
       "      <td>0</td>\n",
       "      <td>1385736991032020994</td>\n",
       "      <td>en</td>\n",
       "      <td>&lt;a href=\"https://mobile.twitter.com\" rel=\"nofo...</td>\n",
       "      <td>https://mobile.twitter.com</td>\n",
       "      <td>Twitter Web App</td>\n",
       "      <td>None</td>\n",
       "      <td>NaN</td>\n",
       "      <td>None</td>\n",
       "      <td>[{'username': 'ArvindKejriwal', 'displayname':...</td>\n",
       "    </tr>\n",
       "    <tr>\n",
       "      <th>3</th>\n",
       "      <td>https://twitter.com/JKSTUDENTSASSO/status/1385...</td>\n",
       "      <td>2021-04-23 23:05:00+00:00</td>\n",
       "      <td>🆘\\nVery Urgent need for Oxygen Concentrator.\\n...</td>\n",
       "      <td>🆘\\nVery Urgent need for Oxygen Concentrator.\\n...</td>\n",
       "      <td>1385731460225671171</td>\n",
       "      <td>{'username': 'JKSTUDENTSASSO', 'displayname': ...</td>\n",
       "      <td>[]</td>\n",
       "      <td>[]</td>\n",
       "      <td>1</td>\n",
       "      <td>2</td>\n",
       "      <td>...</td>\n",
       "      <td>0</td>\n",
       "      <td>1385731460225671171</td>\n",
       "      <td>en</td>\n",
       "      <td>&lt;a href=\"http://twitter.com/download/android\" ...</td>\n",
       "      <td>http://twitter.com/download/android</td>\n",
       "      <td>Twitter for Android</td>\n",
       "      <td>None</td>\n",
       "      <td>NaN</td>\n",
       "      <td>None</td>\n",
       "      <td>[{'username': 'srinivasiyc', 'displayname': 'S...</td>\n",
       "    </tr>\n",
       "    <tr>\n",
       "      <th>4</th>\n",
       "      <td>https://twitter.com/saloni202020/status/138572...</td>\n",
       "      <td>2021-04-23 22:54:32+00:00</td>\n",
       "      <td>@AJReckons 61 year old covid patient - Philomi...</td>\n",
       "      <td>@AJReckons 61 year old covid patient - Philomi...</td>\n",
       "      <td>1385728825057693698</td>\n",
       "      <td>{'username': 'saloni202020', 'displayname': 's...</td>\n",
       "      <td>[]</td>\n",
       "      <td>[]</td>\n",
       "      <td>4</td>\n",
       "      <td>1</td>\n",
       "      <td>...</td>\n",
       "      <td>0</td>\n",
       "      <td>1385728825057693698</td>\n",
       "      <td>en</td>\n",
       "      <td>&lt;a href=\"http://twitter.com/download/android\" ...</td>\n",
       "      <td>http://twitter.com/download/android</td>\n",
       "      <td>Twitter for Android</td>\n",
       "      <td>None</td>\n",
       "      <td>NaN</td>\n",
       "      <td>None</td>\n",
       "      <td>[{'username': 'AJReckons', 'displayname': 'AJ'...</td>\n",
       "    </tr>\n",
       "    <tr>\n",
       "      <th>...</th>\n",
       "      <td>...</td>\n",
       "      <td>...</td>\n",
       "      <td>...</td>\n",
       "      <td>...</td>\n",
       "      <td>...</td>\n",
       "      <td>...</td>\n",
       "      <td>...</td>\n",
       "      <td>...</td>\n",
       "      <td>...</td>\n",
       "      <td>...</td>\n",
       "      <td>...</td>\n",
       "      <td>...</td>\n",
       "      <td>...</td>\n",
       "      <td>...</td>\n",
       "      <td>...</td>\n",
       "      <td>...</td>\n",
       "      <td>...</td>\n",
       "      <td>...</td>\n",
       "      <td>...</td>\n",
       "      <td>...</td>\n",
       "      <td>...</td>\n",
       "    </tr>\n",
       "    <tr>\n",
       "      <th>975</th>\n",
       "      <td>https://twitter.com/gaurav_s_rawat/status/1382...</td>\n",
       "      <td>2021-04-15 17:09:39+00:00</td>\n",
       "      <td>@KapilMishra_IND Need ICU bed in GTB hospital ...</td>\n",
       "      <td>@KapilMishra_IND Need ICU bed in GTB hospital ...</td>\n",
       "      <td>1382742928905314304</td>\n",
       "      <td>{'username': 'gaurav_s_rawat', 'displayname': ...</td>\n",
       "      <td>[]</td>\n",
       "      <td>[]</td>\n",
       "      <td>1</td>\n",
       "      <td>2</td>\n",
       "      <td>...</td>\n",
       "      <td>0</td>\n",
       "      <td>1382739435196862466</td>\n",
       "      <td>en</td>\n",
       "      <td>&lt;a href=\"https://mobile.twitter.com\" rel=\"nofo...</td>\n",
       "      <td>https://mobile.twitter.com</td>\n",
       "      <td>Twitter Web App</td>\n",
       "      <td>None</td>\n",
       "      <td>NaN</td>\n",
       "      <td>None</td>\n",
       "      <td>[{'username': 'KapilMishra_IND', 'displayname'...</td>\n",
       "    </tr>\n",
       "    <tr>\n",
       "      <th>976</th>\n",
       "      <td>https://twitter.com/AHKhan1969/status/13827241...</td>\n",
       "      <td>2021-04-15 15:54:55+00:00</td>\n",
       "      <td>@srinivasiyc Sir Please help\\n\\nPatient Name A...</td>\n",
       "      <td>@srinivasiyc Sir Please help\\n\\nPatient Name A...</td>\n",
       "      <td>1382724125135753216</td>\n",
       "      <td>{'username': 'AHKhan1969', 'displayname': 'A K...</td>\n",
       "      <td>[]</td>\n",
       "      <td>[]</td>\n",
       "      <td>1</td>\n",
       "      <td>0</td>\n",
       "      <td>...</td>\n",
       "      <td>0</td>\n",
       "      <td>1382724125135753216</td>\n",
       "      <td>en</td>\n",
       "      <td>&lt;a href=\"http://twitter.com/download/android\" ...</td>\n",
       "      <td>http://twitter.com/download/android</td>\n",
       "      <td>Twitter for Android</td>\n",
       "      <td>None</td>\n",
       "      <td>NaN</td>\n",
       "      <td>None</td>\n",
       "      <td>[{'username': 'srinivasiyc', 'displayname': 'S...</td>\n",
       "    </tr>\n",
       "    <tr>\n",
       "      <th>977</th>\n",
       "      <td>https://twitter.com/HARAAMI_AF/status/13826618...</td>\n",
       "      <td>2021-04-15 11:47:34+00:00</td>\n",
       "      <td>URGENT! We urgently need a bed at a hospital i...</td>\n",
       "      <td>URGENT! We urgently need a bed at a hospital i...</td>\n",
       "      <td>1382661875813416967</td>\n",
       "      <td>{'username': 'HARAAMI_AF', 'displayname': 'Far...</td>\n",
       "      <td>[]</td>\n",
       "      <td>[]</td>\n",
       "      <td>2</td>\n",
       "      <td>0</td>\n",
       "      <td>...</td>\n",
       "      <td>0</td>\n",
       "      <td>1382661875813416967</td>\n",
       "      <td>en</td>\n",
       "      <td>&lt;a href=\"http://twitter.com/download/android\" ...</td>\n",
       "      <td>http://twitter.com/download/android</td>\n",
       "      <td>Twitter for Android</td>\n",
       "      <td>None</td>\n",
       "      <td>NaN</td>\n",
       "      <td>None</td>\n",
       "      <td>None</td>\n",
       "    </tr>\n",
       "    <tr>\n",
       "      <th>978</th>\n",
       "      <td>https://twitter.com/princePS95/status/13824348...</td>\n",
       "      <td>2021-04-14 20:45:18+00:00</td>\n",
       "      <td>we are in urgent need of Covid Icu Bed for my ...</td>\n",
       "      <td>we are in urgent need of Covid Icu Bed for my ...</td>\n",
       "      <td>1382434812871413764</td>\n",
       "      <td>{'username': 'princePS95', 'displayname': 'Pri...</td>\n",
       "      <td>[]</td>\n",
       "      <td>[]</td>\n",
       "      <td>1</td>\n",
       "      <td>3</td>\n",
       "      <td>...</td>\n",
       "      <td>1</td>\n",
       "      <td>1382434812871413764</td>\n",
       "      <td>en</td>\n",
       "      <td>&lt;a href=\"http://twitter.com/download/iphone\" r...</td>\n",
       "      <td>http://twitter.com/download/iphone</td>\n",
       "      <td>Twitter for iPhone</td>\n",
       "      <td>None</td>\n",
       "      <td>NaN</td>\n",
       "      <td>None</td>\n",
       "      <td>[{'username': 'ArvindKejriwal', 'displayname':...</td>\n",
       "    </tr>\n",
       "    <tr>\n",
       "      <th>979</th>\n",
       "      <td>https://twitter.com/Abhijain0228/status/138079...</td>\n",
       "      <td>2021-04-10 07:54:07+00:00</td>\n",
       "      <td>@ELister_social @jeasbe @BloodAid @bld4needy @...</td>\n",
       "      <td>@ELister_social @jeasbe @BloodAid @bld4needy @...</td>\n",
       "      <td>1380791189050290176</td>\n",
       "      <td>{'username': 'Abhijain0228', 'displayname': 'A...</td>\n",
       "      <td>[]</td>\n",
       "      <td>[]</td>\n",
       "      <td>1</td>\n",
       "      <td>3</td>\n",
       "      <td>...</td>\n",
       "      <td>0</td>\n",
       "      <td>1277544232970932224</td>\n",
       "      <td>en</td>\n",
       "      <td>&lt;a href=\"http://twitter.com/download/iphone\" r...</td>\n",
       "      <td>http://twitter.com/download/iphone</td>\n",
       "      <td>Twitter for iPhone</td>\n",
       "      <td>None</td>\n",
       "      <td>NaN</td>\n",
       "      <td>None</td>\n",
       "      <td>[{'username': 'ELister_social', 'displayname':...</td>\n",
       "    </tr>\n",
       "  </tbody>\n",
       "</table>\n",
       "<p>980 rows × 21 columns</p>\n",
       "</div>"
      ],
      "text/plain": [
       "                                                   url  \\\n",
       "0    https://twitter.com/midhatkidwai/status/138574...   \n",
       "1    https://twitter.com/baladaisy08/status/1385737...   \n",
       "2    https://twitter.com/VIVEKKAUSHIK10/status/1385...   \n",
       "3    https://twitter.com/JKSTUDENTSASSO/status/1385...   \n",
       "4    https://twitter.com/saloni202020/status/138572...   \n",
       "..                                                 ...   \n",
       "975  https://twitter.com/gaurav_s_rawat/status/1382...   \n",
       "976  https://twitter.com/AHKhan1969/status/13827241...   \n",
       "977  https://twitter.com/HARAAMI_AF/status/13826618...   \n",
       "978  https://twitter.com/princePS95/status/13824348...   \n",
       "979  https://twitter.com/Abhijain0228/status/138079...   \n",
       "\n",
       "                         date  \\\n",
       "0   2021-04-23 23:45:18+00:00   \n",
       "1   2021-04-23 23:28:23+00:00   \n",
       "2   2021-04-23 23:26:59+00:00   \n",
       "3   2021-04-23 23:05:00+00:00   \n",
       "4   2021-04-23 22:54:32+00:00   \n",
       "..                        ...   \n",
       "975 2021-04-15 17:09:39+00:00   \n",
       "976 2021-04-15 15:54:55+00:00   \n",
       "977 2021-04-15 11:47:34+00:00   \n",
       "978 2021-04-14 20:45:18+00:00   \n",
       "979 2021-04-10 07:54:07+00:00   \n",
       "\n",
       "                                               content  \\\n",
       "0    🆘 Need an oxygen bed for 72+ Covid suspected p...   \n",
       "1    Kiran bala Verma\\nCOVID positive \\nInfection s...   \n",
       "2    @ArvindKejriwal @msisodia Patient Name: Hoinei...   \n",
       "3    🆘\\nVery Urgent need for Oxygen Concentrator.\\n...   \n",
       "4    @AJReckons 61 year old covid patient - Philomi...   \n",
       "..                                                 ...   \n",
       "975  @KapilMishra_IND Need ICU bed in GTB hospital ...   \n",
       "976  @srinivasiyc Sir Please help\\n\\nPatient Name A...   \n",
       "977  URGENT! We urgently need a bed at a hospital i...   \n",
       "978  we are in urgent need of Covid Icu Bed for my ...   \n",
       "979  @ELister_social @jeasbe @BloodAid @bld4needy @...   \n",
       "\n",
       "                                       renderedContent                   id  \\\n",
       "0    🆘 Need an oxygen bed for 72+ Covid suspected p...  1385741601356402688   \n",
       "1    Kiran bala Verma\\nCOVID positive \\nInfection s...  1385737344884559875   \n",
       "2    @ArvindKejriwal @msisodia Patient Name: Hoinei...  1385736991032020994   \n",
       "3    🆘\\nVery Urgent need for Oxygen Concentrator.\\n...  1385731460225671171   \n",
       "4    @AJReckons 61 year old covid patient - Philomi...  1385728825057693698   \n",
       "..                                                 ...                  ...   \n",
       "975  @KapilMishra_IND Need ICU bed in GTB hospital ...  1382742928905314304   \n",
       "976  @srinivasiyc Sir Please help\\n\\nPatient Name A...  1382724125135753216   \n",
       "977  URGENT! We urgently need a bed at a hospital i...  1382661875813416967   \n",
       "978  we are in urgent need of Covid Icu Bed for my ...  1382434812871413764   \n",
       "979  @ELister_social @jeasbe @BloodAid @bld4needy @...  1380791189050290176   \n",
       "\n",
       "                                                  user outlinks tcooutlinks  \\\n",
       "0    {'username': 'midhatkidwai', 'displayname': 'M...       []          []   \n",
       "1    {'username': 'baladaisy08', 'displayname': 'Da...       []          []   \n",
       "2    {'username': 'VIVEKKAUSHIK10', 'displayname': ...       []          []   \n",
       "3    {'username': 'JKSTUDENTSASSO', 'displayname': ...       []          []   \n",
       "4    {'username': 'saloni202020', 'displayname': 's...       []          []   \n",
       "..                                                 ...      ...         ...   \n",
       "975  {'username': 'gaurav_s_rawat', 'displayname': ...       []          []   \n",
       "976  {'username': 'AHKhan1969', 'displayname': 'A K...       []          []   \n",
       "977  {'username': 'HARAAMI_AF', 'displayname': 'Far...       []          []   \n",
       "978  {'username': 'princePS95', 'displayname': 'Pri...       []          []   \n",
       "979  {'username': 'Abhijain0228', 'displayname': 'A...       []          []   \n",
       "\n",
       "     replyCount  retweetCount  ...  quoteCount       conversationId  lang  \\\n",
       "0            11            91  ...           1  1385741601356402688    en   \n",
       "1             5             4  ...           0  1385737344884559875    en   \n",
       "2             2             1  ...           0  1385736991032020994    en   \n",
       "3             1             2  ...           0  1385731460225671171    en   \n",
       "4             4             1  ...           0  1385728825057693698    en   \n",
       "..          ...           ...  ...         ...                  ...   ...   \n",
       "975           1             2  ...           0  1382739435196862466    en   \n",
       "976           1             0  ...           0  1382724125135753216    en   \n",
       "977           2             0  ...           0  1382661875813416967    en   \n",
       "978           1             3  ...           1  1382434812871413764    en   \n",
       "979           1             3  ...           0  1277544232970932224    en   \n",
       "\n",
       "                                                source  \\\n",
       "0    <a href=\"http://twitter.com/download/iphone\" r...   \n",
       "1    <a href=\"http://twitter.com/download/iphone\" r...   \n",
       "2    <a href=\"https://mobile.twitter.com\" rel=\"nofo...   \n",
       "3    <a href=\"http://twitter.com/download/android\" ...   \n",
       "4    <a href=\"http://twitter.com/download/android\" ...   \n",
       "..                                                 ...   \n",
       "975  <a href=\"https://mobile.twitter.com\" rel=\"nofo...   \n",
       "976  <a href=\"http://twitter.com/download/android\" ...   \n",
       "977  <a href=\"http://twitter.com/download/android\" ...   \n",
       "978  <a href=\"http://twitter.com/download/iphone\" r...   \n",
       "979  <a href=\"http://twitter.com/download/iphone\" r...   \n",
       "\n",
       "                               sourceUrl          sourceLabel media  \\\n",
       "0     http://twitter.com/download/iphone   Twitter for iPhone  None   \n",
       "1     http://twitter.com/download/iphone   Twitter for iPhone  None   \n",
       "2             https://mobile.twitter.com      Twitter Web App  None   \n",
       "3    http://twitter.com/download/android  Twitter for Android  None   \n",
       "4    http://twitter.com/download/android  Twitter for Android  None   \n",
       "..                                   ...                  ...   ...   \n",
       "975           https://mobile.twitter.com      Twitter Web App  None   \n",
       "976  http://twitter.com/download/android  Twitter for Android  None   \n",
       "977  http://twitter.com/download/android  Twitter for Android  None   \n",
       "978   http://twitter.com/download/iphone   Twitter for iPhone  None   \n",
       "979   http://twitter.com/download/iphone   Twitter for iPhone  None   \n",
       "\n",
       "    retweetedTweet  quotedTweet  \\\n",
       "0              NaN         None   \n",
       "1              NaN         None   \n",
       "2              NaN         None   \n",
       "3              NaN         None   \n",
       "4              NaN         None   \n",
       "..             ...          ...   \n",
       "975            NaN         None   \n",
       "976            NaN         None   \n",
       "977            NaN         None   \n",
       "978            NaN         None   \n",
       "979            NaN         None   \n",
       "\n",
       "                                        mentionedUsers  \n",
       "0                                                 None  \n",
       "1    [{'username': 'baladaisy08', 'displayname': 'D...  \n",
       "2    [{'username': 'ArvindKejriwal', 'displayname':...  \n",
       "3    [{'username': 'srinivasiyc', 'displayname': 'S...  \n",
       "4    [{'username': 'AJReckons', 'displayname': 'AJ'...  \n",
       "..                                                 ...  \n",
       "975  [{'username': 'KapilMishra_IND', 'displayname'...  \n",
       "976  [{'username': 'srinivasiyc', 'displayname': 'S...  \n",
       "977                                               None  \n",
       "978  [{'username': 'ArvindKejriwal', 'displayname':...  \n",
       "979  [{'username': 'ELister_social', 'displayname':...  \n",
       "\n",
       "[980 rows x 21 columns]"
      ]
     },
     "execution_count": 61,
     "metadata": {},
     "output_type": "execute_result"
    }
   ],
   "source": [
    "pd.read_json('COVID_data.json', lines=True)"
   ]
  },
  {
   "cell_type": "code",
   "execution_count": 2,
   "id": "injured-thesis",
   "metadata": {},
   "outputs": [],
   "source": [
    "df = pd.read_csv('Vadodara_emergency_tweets.csv')"
   ]
  },
  {
   "cell_type": "code",
   "execution_count": 3,
   "id": "outdoor-methodology",
   "metadata": {},
   "outputs": [
    {
     "data": {
      "text/html": [
       "<div>\n",
       "<style scoped>\n",
       "    .dataframe tbody tr th:only-of-type {\n",
       "        vertical-align: middle;\n",
       "    }\n",
       "\n",
       "    .dataframe tbody tr th {\n",
       "        vertical-align: top;\n",
       "    }\n",
       "\n",
       "    .dataframe thead th {\n",
       "        text-align: right;\n",
       "    }\n",
       "</style>\n",
       "<table border=\"1\" class=\"dataframe\">\n",
       "  <thead>\n",
       "    <tr style=\"text-align: right;\">\n",
       "      <th></th>\n",
       "      <th>date</th>\n",
       "      <th>content</th>\n",
       "      <th>replyCount</th>\n",
       "      <th>retweetCount</th>\n",
       "      <th>likeCount</th>\n",
       "      <th>city</th>\n",
       "      <th>username</th>\n",
       "    </tr>\n",
       "  </thead>\n",
       "  <tbody>\n",
       "    <tr>\n",
       "      <th>0</th>\n",
       "      <td>2021-04-21 06:33:20+00:00</td>\n",
       "      <td>NEED PLASMA DONOR URGENTLY:\\n\\nCovid recovered...</td>\n",
       "      <td>0</td>\n",
       "      <td>8</td>\n",
       "      <td>1</td>\n",
       "      <td>Vadodara</td>\n",
       "      <td>RituPaknikar</td>\n",
       "    </tr>\n",
       "    <tr>\n",
       "      <th>1</th>\n",
       "      <td>2021-04-21 06:06:49+00:00</td>\n",
       "      <td>@AmitHPanchal @TajinderBagga @sanghaviharsh @C...</td>\n",
       "      <td>0</td>\n",
       "      <td>0</td>\n",
       "      <td>0</td>\n",
       "      <td>Vadodara</td>\n",
       "      <td>ChirayuPanchol1</td>\n",
       "    </tr>\n",
       "    <tr>\n",
       "      <th>2</th>\n",
       "      <td>2021-04-20 11:05:23+00:00</td>\n",
       "      <td>@notbeingharsh @Shamsher_IPS @RjKshitij @RJ_Ja...</td>\n",
       "      <td>1</td>\n",
       "      <td>2</td>\n",
       "      <td>1</td>\n",
       "      <td>Vadodara</td>\n",
       "      <td>BeingJayDesai</td>\n",
       "    </tr>\n",
       "    <tr>\n",
       "      <th>3</th>\n",
       "      <td>2021-04-20 10:35:32+00:00</td>\n",
       "      <td>Required #PlasmaDonor for the patient who is i...</td>\n",
       "      <td>0</td>\n",
       "      <td>1</td>\n",
       "      <td>0</td>\n",
       "      <td>Vadodara</td>\n",
       "      <td>BeingJayDesai</td>\n",
       "    </tr>\n",
       "    <tr>\n",
       "      <th>4</th>\n",
       "      <td>2021-04-20 07:24:28+00:00</td>\n",
       "      <td>Urgently need: \\nB+ve Plasma \\nAge: 52 years \\...</td>\n",
       "      <td>0</td>\n",
       "      <td>4</td>\n",
       "      <td>3</td>\n",
       "      <td>Vadodara</td>\n",
       "      <td>JsrsV</td>\n",
       "    </tr>\n",
       "    <tr>\n",
       "      <th>...</th>\n",
       "      <td>...</td>\n",
       "      <td>...</td>\n",
       "      <td>...</td>\n",
       "      <td>...</td>\n",
       "      <td>...</td>\n",
       "      <td>...</td>\n",
       "      <td>...</td>\n",
       "    </tr>\n",
       "    <tr>\n",
       "      <th>83</th>\n",
       "      <td>2021-03-14 17:51:56+00:00</td>\n",
       "      <td>#Vadodara #SOS #COVID19India\\nNeed B+ve #Blood...</td>\n",
       "      <td>0</td>\n",
       "      <td>8</td>\n",
       "      <td>2</td>\n",
       "      <td>Vadodara</td>\n",
       "      <td>Bloodpointorg</td>\n",
       "    </tr>\n",
       "    <tr>\n",
       "      <th>84</th>\n",
       "      <td>2021-03-14 17:44:23+00:00</td>\n",
       "      <td>#Vadodara\\nNeed #Blood Type :  B-positive\\nAt ...</td>\n",
       "      <td>1</td>\n",
       "      <td>72</td>\n",
       "      <td>20</td>\n",
       "      <td>Vadodara</td>\n",
       "      <td>BloodDonorsIn</td>\n",
       "    </tr>\n",
       "    <tr>\n",
       "      <th>85</th>\n",
       "      <td>2021-03-14 14:17:08+00:00</td>\n",
       "      <td>#Vadodara\\nNeed #Blood Type :  B-positive\\nAt ...</td>\n",
       "      <td>1</td>\n",
       "      <td>37</td>\n",
       "      <td>16</td>\n",
       "      <td>Vadodara</td>\n",
       "      <td>BloodDonorsIn</td>\n",
       "    </tr>\n",
       "    <tr>\n",
       "      <th>86</th>\n",
       "      <td>2021-03-03 06:04:10+00:00</td>\n",
       "      <td>#Vadodara\\nNeed A+ve #Blood \\nNumber of Units ...</td>\n",
       "      <td>0</td>\n",
       "      <td>3</td>\n",
       "      <td>0</td>\n",
       "      <td>Vadodara</td>\n",
       "      <td>BloodMattersorg</td>\n",
       "    </tr>\n",
       "    <tr>\n",
       "      <th>87</th>\n",
       "      <td>2021-03-03 04:45:51+00:00</td>\n",
       "      <td>#Vadodara\\nNeed A+ve #Blood \\nNumber of Units ...</td>\n",
       "      <td>0</td>\n",
       "      <td>9</td>\n",
       "      <td>1</td>\n",
       "      <td>Vadodara</td>\n",
       "      <td>Bloodpointorg</td>\n",
       "    </tr>\n",
       "  </tbody>\n",
       "</table>\n",
       "<p>88 rows × 7 columns</p>\n",
       "</div>"
      ],
      "text/plain": [
       "                         date  \\\n",
       "0   2021-04-21 06:33:20+00:00   \n",
       "1   2021-04-21 06:06:49+00:00   \n",
       "2   2021-04-20 11:05:23+00:00   \n",
       "3   2021-04-20 10:35:32+00:00   \n",
       "4   2021-04-20 07:24:28+00:00   \n",
       "..                        ...   \n",
       "83  2021-03-14 17:51:56+00:00   \n",
       "84  2021-03-14 17:44:23+00:00   \n",
       "85  2021-03-14 14:17:08+00:00   \n",
       "86  2021-03-03 06:04:10+00:00   \n",
       "87  2021-03-03 04:45:51+00:00   \n",
       "\n",
       "                                              content  replyCount  \\\n",
       "0   NEED PLASMA DONOR URGENTLY:\\n\\nCovid recovered...           0   \n",
       "1   @AmitHPanchal @TajinderBagga @sanghaviharsh @C...           0   \n",
       "2   @notbeingharsh @Shamsher_IPS @RjKshitij @RJ_Ja...           1   \n",
       "3   Required #PlasmaDonor for the patient who is i...           0   \n",
       "4   Urgently need: \\nB+ve Plasma \\nAge: 52 years \\...           0   \n",
       "..                                                ...         ...   \n",
       "83  #Vadodara #SOS #COVID19India\\nNeed B+ve #Blood...           0   \n",
       "84  #Vadodara\\nNeed #Blood Type :  B-positive\\nAt ...           1   \n",
       "85  #Vadodara\\nNeed #Blood Type :  B-positive\\nAt ...           1   \n",
       "86  #Vadodara\\nNeed A+ve #Blood \\nNumber of Units ...           0   \n",
       "87  #Vadodara\\nNeed A+ve #Blood \\nNumber of Units ...           0   \n",
       "\n",
       "    retweetCount  likeCount      city         username  \n",
       "0              8          1  Vadodara     RituPaknikar  \n",
       "1              0          0  Vadodara  ChirayuPanchol1  \n",
       "2              2          1  Vadodara    BeingJayDesai  \n",
       "3              1          0  Vadodara    BeingJayDesai  \n",
       "4              4          3  Vadodara            JsrsV  \n",
       "..           ...        ...       ...              ...  \n",
       "83             8          2  Vadodara    Bloodpointorg  \n",
       "84            72         20  Vadodara    BloodDonorsIn  \n",
       "85            37         16  Vadodara    BloodDonorsIn  \n",
       "86             3          0  Vadodara  BloodMattersorg  \n",
       "87             9          1  Vadodara    Bloodpointorg  \n",
       "\n",
       "[88 rows x 7 columns]"
      ]
     },
     "execution_count": 3,
     "metadata": {},
     "output_type": "execute_result"
    }
   ],
   "source": [
    "df"
   ]
  },
  {
   "cell_type": "markdown",
   "id": "visible-luxury",
   "metadata": {},
   "source": [
    "## Scraping the Data"
   ]
  },
  {
   "cell_type": "code",
   "execution_count": 8,
   "id": "better-swaziland",
   "metadata": {},
   "outputs": [],
   "source": [
    "\"((\"covid\" OR \"corona\" OR \"coronavirus\" OR \"positive\" OR \"ve\") AND 'Delhi') AND ((((\"need\" OR \"help\" OR\n",
    "\"required\" OR \"require\" OR \"want\") AND (\"ventilator\" OR \"remdesivir\" OR \"plasma\" OR \"oxygen\" OR \"bed\" OR \"blood\")) OR \"urgent\" OR \"SOS\" OR \"emergency\") AND\n",
    " (\"contact\" OR \"mobile\" OR \"call\" OR \"number\" OR \"91\" OR \"message\" OR \"phone\" OR \"num\" OR \"tel\")) since:2021-04-23 > COVID_data.json\n"
   ]
  },
  {
   "cell_type": "code",
   "execution_count": 9,
   "id": "humanitarian-phoenix",
   "metadata": {},
   "outputs": [
    {
     "data": {
      "text/plain": [
       "'2021-04-23'"
      ]
     },
     "execution_count": 9,
     "metadata": {},
     "output_type": "execute_result"
    }
   ],
   "source": [
    "today"
   ]
  },
  {
   "cell_type": "code",
   "execution_count": 11,
   "id": "united-rotation",
   "metadata": {},
   "outputs": [],
   "source": [
    "def Scraper(city):\n",
    "    query = 'snscrape --jsonl --max-results 10000 twitter-search \"((\"covid\" OR \"corona\" OR \"coronavirus\" OR \"positive\" OR \"ve\") AND ' + str(city) + ') AND ((((\"need\" OR \"help\" OR \"required\" OR \"require\" OR \"want\") AND (\"ventilator\" OR \"remdesivir\" OR \"plasma\" OR \"oxygen\" OR \"bed\" OR \"blood\")) OR \"urgent\" OR \"SOS\" OR \"emergency\") AND (\"contact\" OR \"mobile\" OR \"call\" OR \"number\" OR \"91\" OR \"message\" OR \"phone\" OR \"num\" OR \"tel\")) since:'+ today +'> covid_data.json'\n",
    "    os.system(query)\n",
    "    print(today)\n",
    "    print(query)\n",
    "    \n",
    "    df = pd.read_json('covid_data.json', lines=True)\n",
    "    if df.shape[0] == 0:\n",
    "        pass\n",
    "    else:\n",
    "        df = df[['date', 'content','user','replyCount','retweetCount','likeCount']]\n",
    "        df['city']= str(city)\n",
    "\n",
    "        usernames=[]\n",
    "        for i in range(len(df)):\n",
    "            usernames.append(df.loc[i,'user']['username'])\n",
    "        df['username'] = usernames\n",
    "        df.drop('user',1, inplace=True)\n",
    "\n",
    "        filename= str(city)+'_emergency_tweets.csv'\n",
    "        df.to_csv(filename, index=False)"
   ]
  },
  {
   "cell_type": "code",
   "execution_count": 5,
   "id": "elementary-connectivity",
   "metadata": {},
   "outputs": [],
   "source": [
    "df = pd.read_csv('Jammu_emergency_tweets.csv')"
   ]
  },
  {
   "cell_type": "code",
   "execution_count": 7,
   "id": "radio-sustainability",
   "metadata": {},
   "outputs": [],
   "source": [
    "df['date'] = pd.to_datetime(df['date'], utc=False).dt.date"
   ]
  },
  {
   "cell_type": "code",
   "execution_count": 10,
   "id": "stainless-alignment",
   "metadata": {},
   "outputs": [],
   "source": [
    "df = df[['date','replyCount','retweetCount','likeCount']]"
   ]
  },
  {
   "cell_type": "code",
   "execution_count": 13,
   "id": "unavailable-neighbor",
   "metadata": {},
   "outputs": [
    {
     "data": {
      "text/html": [
       "<div>\n",
       "<style scoped>\n",
       "    .dataframe tbody tr th:only-of-type {\n",
       "        vertical-align: middle;\n",
       "    }\n",
       "\n",
       "    .dataframe tbody tr th {\n",
       "        vertical-align: top;\n",
       "    }\n",
       "\n",
       "    .dataframe thead th {\n",
       "        text-align: right;\n",
       "    }\n",
       "</style>\n",
       "<table border=\"1\" class=\"dataframe\">\n",
       "  <thead>\n",
       "    <tr style=\"text-align: right;\">\n",
       "      <th></th>\n",
       "      <th>replyCount</th>\n",
       "      <th>retweetCount</th>\n",
       "    </tr>\n",
       "    <tr>\n",
       "      <th>date</th>\n",
       "      <th></th>\n",
       "      <th></th>\n",
       "    </tr>\n",
       "  </thead>\n",
       "  <tbody>\n",
       "    <tr>\n",
       "      <th>2021-03-04</th>\n",
       "      <td>0</td>\n",
       "      <td>17</td>\n",
       "    </tr>\n",
       "    <tr>\n",
       "      <th>2021-03-06</th>\n",
       "      <td>0</td>\n",
       "      <td>26</td>\n",
       "    </tr>\n",
       "    <tr>\n",
       "      <th>2021-03-07</th>\n",
       "      <td>2</td>\n",
       "      <td>2</td>\n",
       "    </tr>\n",
       "    <tr>\n",
       "      <th>2021-03-08</th>\n",
       "      <td>0</td>\n",
       "      <td>62</td>\n",
       "    </tr>\n",
       "    <tr>\n",
       "      <th>2021-03-10</th>\n",
       "      <td>0</td>\n",
       "      <td>20</td>\n",
       "    </tr>\n",
       "    <tr>\n",
       "      <th>2021-03-23</th>\n",
       "      <td>0</td>\n",
       "      <td>21</td>\n",
       "    </tr>\n",
       "    <tr>\n",
       "      <th>2021-04-03</th>\n",
       "      <td>0</td>\n",
       "      <td>0</td>\n",
       "    </tr>\n",
       "    <tr>\n",
       "      <th>2021-04-07</th>\n",
       "      <td>0</td>\n",
       "      <td>22</td>\n",
       "    </tr>\n",
       "    <tr>\n",
       "      <th>2021-04-08</th>\n",
       "      <td>1</td>\n",
       "      <td>5</td>\n",
       "    </tr>\n",
       "    <tr>\n",
       "      <th>2021-04-10</th>\n",
       "      <td>2</td>\n",
       "      <td>0</td>\n",
       "    </tr>\n",
       "    <tr>\n",
       "      <th>2021-04-13</th>\n",
       "      <td>3</td>\n",
       "      <td>0</td>\n",
       "    </tr>\n",
       "    <tr>\n",
       "      <th>2021-04-15</th>\n",
       "      <td>2</td>\n",
       "      <td>4</td>\n",
       "    </tr>\n",
       "    <tr>\n",
       "      <th>2021-04-16</th>\n",
       "      <td>0</td>\n",
       "      <td>0</td>\n",
       "    </tr>\n",
       "    <tr>\n",
       "      <th>2021-04-17</th>\n",
       "      <td>1</td>\n",
       "      <td>22</td>\n",
       "    </tr>\n",
       "    <tr>\n",
       "      <th>2021-04-18</th>\n",
       "      <td>1</td>\n",
       "      <td>116</td>\n",
       "    </tr>\n",
       "    <tr>\n",
       "      <th>2021-04-19</th>\n",
       "      <td>1</td>\n",
       "      <td>0</td>\n",
       "    </tr>\n",
       "    <tr>\n",
       "      <th>2021-04-20</th>\n",
       "      <td>1</td>\n",
       "      <td>36</td>\n",
       "    </tr>\n",
       "  </tbody>\n",
       "</table>\n",
       "</div>"
      ],
      "text/plain": [
       "            replyCount  retweetCount\n",
       "date                                \n",
       "2021-03-04           0            17\n",
       "2021-03-06           0            26\n",
       "2021-03-07           2             2\n",
       "2021-03-08           0            62\n",
       "2021-03-10           0            20\n",
       "2021-03-23           0            21\n",
       "2021-04-03           0             0\n",
       "2021-04-07           0            22\n",
       "2021-04-08           1             5\n",
       "2021-04-10           2             0\n",
       "2021-04-13           3             0\n",
       "2021-04-15           2             4\n",
       "2021-04-16           0             0\n",
       "2021-04-17           1            22\n",
       "2021-04-18           1           116\n",
       "2021-04-19           1             0\n",
       "2021-04-20           1            36"
      ]
     },
     "execution_count": 13,
     "metadata": {},
     "output_type": "execute_result"
    }
   ],
   "source": [
    "df.groupby('date')[['replyCount','retweetCount','likeCount']].sum()"
   ]
  },
  {
   "cell_type": "code",
   "execution_count": null,
   "id": "thirty-future",
   "metadata": {},
   "outputs": [],
   "source": [
    "df"
   ]
  },
  {
   "cell_type": "code",
   "execution_count": 159,
   "id": "welcome-vancouver",
   "metadata": {},
   "outputs": [],
   "source": [
    "city_list = [\"Mumbai\", \"Pune\", \"Thane\", \"Nashik\", \"Palghar\", \"Nagpur\",\"Agra\",\n",
    "             \"Yavatmal\", \"Aurangabad\", \"Satara\", \"Dhule\", \"Akola\", \"Jalgaon\",\n",
    "             \"Noida\", \"Meerut\", \"Lucknow\", \"Firozabad\", \"Moradabad\", \"Ghaziabad\",\n",
    "             \"Ernakulam\",\"Kanpur\",'Jamshedpur', \"Raipur\",\n",
    "             \"Chennai\", \"Dindigul\", \"Erode\", \"Vellore\", \"Madurai\",\"Guwahati\",'Varanasi',\n",
    "             \"Salem\", \"Tirunelveli\", \"Tirupur\", \"Theni\", \"Thiruvarur\", \n",
    "             \"Chengalpattu\", \"Kanyakumari\",\n",
    "             \"Hyderabad\", \"Warangal\", \"Nizamabad\", \"Ranga\", \n",
    "             \"Karimnagar\", \"Nirmal\",\n",
    "             \"Bhilwara\", \"Jaipur\", \"Jodhpur\", \"Kota\", \"Bikaner\", \n",
    "             \"Ahmedabad\", \"Surat\", \"Vadodara\", \"Rajkot\", \"Bhavnagar\",\n",
    "             \"Bhopal\", \"Indore\", \"Ujjain\", \"Khargone\", \"Hoshangabad\",\n",
    "             \"Bengaluru\", \"Mysore\", \"Belagavi\",\n",
    "             \"Kurnool\", \"Nellore\", \"Guntur\", \"Vishakhapatnam\", \"Krishna\", \"Chittoor\",  \"Anantapur\",\n",
    "             \"Kolkata\", \"Howrah\",\n",
    "             \"Siwan\",\"Ranchi\",\n",
    "             \"Chandigarh\", \"Delhi\",\n",
    "             \"Korba\",\n",
    "             \"Gurugram\", \"Palwal\", \"Faridabad\",\n",
    "             \"Jammu\", \"Udhampur\", \"Srinagar\", \"Bandipora\", \"Baramulla\",\n",
    "             \"Jalandhar\",\n",
    "             \"Dehradun\"\n",
    "            ]"
   ]
  },
  {
   "cell_type": "code",
   "execution_count": 24,
   "id": "corporate-duplicate",
   "metadata": {},
   "outputs": [],
   "source": [
    "def Scraper_Bombay(city):\n",
    "    query = 'snscrape --jsonl --max-results 100 twitter-search \"((\"covid\" OR \"corona\" OR \"coronavirus\" OR \"positive\" OR \"ve\") AND ' + str(city) + ') AND ((((\"need\" OR \"help\" OR \"required\" OR \"require\" OR \"want\") AND (\"ventilator\" OR \"remdesivir\" OR \"plasma\" OR \"oxygen\" OR \"bed\" OR \"blood\")) OR \"urgent\" OR \"SOS\" OR \"emergency\") AND (\"contact\" OR \"mobile\" OR \"call\" OR \"number\" OR \"91\" OR \"message\" OR \"phone\" OR \"num\" OR \"tel\")) since:2021-04-01 until:2021-04-20\" > covid_data.json'\n",
    "    os.system(query)\n",
    "    \n",
    "    df = pd.read_json('covid_data.json', lines=True)\n",
    "    if df.shape[0] == 0:\n",
    "        pass\n",
    "    else:\n",
    "        df = df[['date', 'content','user','replyCount','retweetCount','likeCount']]\n",
    "        df['city']= 'Mumbai'\n",
    "\n",
    "    usernames=[]\n",
    "    for i in range(len(df)):\n",
    "        usernames.append(df.loc[i,'user']['username'])\n",
    "    df['username'] = usernames\n",
    "    df.drop('user',1, inplace=True)\n",
    "\n",
    "    filename= str(city)+'_emergency_tweets.csv'\n",
    "    df.to_csv(filename, index=False)"
   ]
  },
  {
   "cell_type": "code",
   "execution_count": 25,
   "id": "capable-greensboro",
   "metadata": {},
   "outputs": [],
   "source": [
    "Scraper_Bombay('Surat')"
   ]
  },
  {
   "cell_type": "code",
   "execution_count": 26,
   "id": "turned-canadian",
   "metadata": {},
   "outputs": [
    {
     "data": {
      "text/html": [
       "<div>\n",
       "<style scoped>\n",
       "    .dataframe tbody tr th:only-of-type {\n",
       "        vertical-align: middle;\n",
       "    }\n",
       "\n",
       "    .dataframe tbody tr th {\n",
       "        vertical-align: top;\n",
       "    }\n",
       "\n",
       "    .dataframe thead th {\n",
       "        text-align: right;\n",
       "    }\n",
       "</style>\n",
       "<table border=\"1\" class=\"dataframe\">\n",
       "  <thead>\n",
       "    <tr style=\"text-align: right;\">\n",
       "      <th></th>\n",
       "      <th>date</th>\n",
       "      <th>content</th>\n",
       "      <th>replyCount</th>\n",
       "      <th>retweetCount</th>\n",
       "      <th>likeCount</th>\n",
       "      <th>city</th>\n",
       "      <th>username</th>\n",
       "    </tr>\n",
       "  </thead>\n",
       "  <tbody>\n",
       "    <tr>\n",
       "      <th>0</th>\n",
       "      <td>2021-04-19 17:18:28+00:00</td>\n",
       "      <td>URGENT... URGENT\\n\\nREQUIRE \"O+\" PLAZMA DONOR ...</td>\n",
       "      <td>1</td>\n",
       "      <td>13</td>\n",
       "      <td>11</td>\n",
       "      <td>Mumbai</td>\n",
       "      <td>CAHariArora</td>\n",
       "    </tr>\n",
       "    <tr>\n",
       "      <th>1</th>\n",
       "      <td>2021-04-19 16:27:39+00:00</td>\n",
       "      <td>@BloodDonorsIn \\nIn urgent need of Plasma dono...</td>\n",
       "      <td>4</td>\n",
       "      <td>6</td>\n",
       "      <td>0</td>\n",
       "      <td>Mumbai</td>\n",
       "      <td>NikunjAmipara</td>\n",
       "    </tr>\n",
       "    <tr>\n",
       "      <th>2</th>\n",
       "      <td>2021-04-19 05:38:35+00:00</td>\n",
       "      <td>Dear @sanghaviharsh @CRPaatil \\nEXTREME URGENT...</td>\n",
       "      <td>3</td>\n",
       "      <td>11</td>\n",
       "      <td>8</td>\n",
       "      <td>Mumbai</td>\n",
       "      <td>arvindg1970</td>\n",
       "    </tr>\n",
       "    <tr>\n",
       "      <th>3</th>\n",
       "      <td>2021-04-19 05:35:17+00:00</td>\n",
       "      <td>#Surat\\nNeed #Blood Type :  O-positive\\nAt : M...</td>\n",
       "      <td>1</td>\n",
       "      <td>49</td>\n",
       "      <td>11</td>\n",
       "      <td>Mumbai</td>\n",
       "      <td>BloodDonorsIn</td>\n",
       "    </tr>\n",
       "    <tr>\n",
       "      <th>4</th>\n",
       "      <td>2021-04-19 04:30:26+00:00</td>\n",
       "      <td>Name : Ravindra Devidas Patil\\nHosptial name :...</td>\n",
       "      <td>1</td>\n",
       "      <td>27</td>\n",
       "      <td>10</td>\n",
       "      <td>Mumbai</td>\n",
       "      <td>anand_luhar</td>\n",
       "    </tr>\n",
       "    <tr>\n",
       "      <th>5</th>\n",
       "      <td>2021-04-19 03:45:24+00:00</td>\n",
       "      <td>Today,19th April:21, @OfficialStarAir\\nis Oper...</td>\n",
       "      <td>0</td>\n",
       "      <td>0</td>\n",
       "      <td>2</td>\n",
       "      <td>Mumbai</td>\n",
       "      <td>aaiblgairport</td>\n",
       "    </tr>\n",
       "    <tr>\n",
       "      <th>6</th>\n",
       "      <td>2021-04-18 02:07:04+00:00</td>\n",
       "      <td>#Surat\\nNeed #Blood Type :  A-positive\\nAt : C...</td>\n",
       "      <td>0</td>\n",
       "      <td>1</td>\n",
       "      <td>0</td>\n",
       "      <td>Mumbai</td>\n",
       "      <td>PANDIT_RJ_34</td>\n",
       "    </tr>\n",
       "    <tr>\n",
       "      <th>7</th>\n",
       "      <td>2021-04-18 02:06:37+00:00</td>\n",
       "      <td>#Surat\\nNeed #Blood Type :  A-positive\\nAt : C...</td>\n",
       "      <td>2</td>\n",
       "      <td>29</td>\n",
       "      <td>8</td>\n",
       "      <td>Mumbai</td>\n",
       "      <td>BloodDonorsIn</td>\n",
       "    </tr>\n",
       "    <tr>\n",
       "      <th>8</th>\n",
       "      <td>2021-04-17 13:26:24+00:00</td>\n",
       "      <td>@BloodDonorsIn \\nNeed A+ blood plasma\\nCivil h...</td>\n",
       "      <td>0</td>\n",
       "      <td>1</td>\n",
       "      <td>1</td>\n",
       "      <td>Mumbai</td>\n",
       "      <td>_imbhavesh</td>\n",
       "    </tr>\n",
       "    <tr>\n",
       "      <th>9</th>\n",
       "      <td>2021-04-17 03:49:09+00:00</td>\n",
       "      <td>#Surat\\nNeed #Blood Type :  A-positive\\nAt : C...</td>\n",
       "      <td>0</td>\n",
       "      <td>32</td>\n",
       "      <td>11</td>\n",
       "      <td>Mumbai</td>\n",
       "      <td>BloodDonorsIn</td>\n",
       "    </tr>\n",
       "    <tr>\n",
       "      <th>10</th>\n",
       "      <td>2021-04-16 14:56:24+00:00</td>\n",
       "      <td>*Very very Urgent required* \\n\\nO+ve plasma ( ...</td>\n",
       "      <td>2</td>\n",
       "      <td>4</td>\n",
       "      <td>3</td>\n",
       "      <td>Mumbai</td>\n",
       "      <td>Paragjain_IND</td>\n",
       "    </tr>\n",
       "    <tr>\n",
       "      <th>11</th>\n",
       "      <td>2021-04-16 11:03:38+00:00</td>\n",
       "      <td>Urgent :-  *Covid Plasma Require*\\n\\nBlood Gro...</td>\n",
       "      <td>0</td>\n",
       "      <td>1</td>\n",
       "      <td>1</td>\n",
       "      <td>Mumbai</td>\n",
       "      <td>IJatinSojitra</td>\n",
       "    </tr>\n",
       "    <tr>\n",
       "      <th>12</th>\n",
       "      <td>2021-04-16 06:48:15+00:00</td>\n",
       "      <td>Today,16th April:21, @OfficialStarAir\\nis Oper...</td>\n",
       "      <td>0</td>\n",
       "      <td>1</td>\n",
       "      <td>1</td>\n",
       "      <td>Mumbai</td>\n",
       "      <td>aaiblgairport</td>\n",
       "    </tr>\n",
       "    <tr>\n",
       "      <th>13</th>\n",
       "      <td>2021-04-15 19:24:44+00:00</td>\n",
       "      <td>#Surat\\nNeed #Blood Type :  O-positive\\nAt : C...</td>\n",
       "      <td>1</td>\n",
       "      <td>1</td>\n",
       "      <td>0</td>\n",
       "      <td>Mumbai</td>\n",
       "      <td>BloodMattersorg</td>\n",
       "    </tr>\n",
       "    <tr>\n",
       "      <th>14</th>\n",
       "      <td>2021-04-15 15:57:06+00:00</td>\n",
       "      <td>#Surat\\nNeed #Blood Type :  O-positive\\nAt : C...</td>\n",
       "      <td>0</td>\n",
       "      <td>39</td>\n",
       "      <td>9</td>\n",
       "      <td>Mumbai</td>\n",
       "      <td>BloodDonorsIn</td>\n",
       "    </tr>\n",
       "    <tr>\n",
       "      <th>15</th>\n",
       "      <td>2021-04-14 19:28:28+00:00</td>\n",
       "      <td>Urgent Requirement \\n14-4-2021 9:00PM \\nO+ Pla...</td>\n",
       "      <td>0</td>\n",
       "      <td>2</td>\n",
       "      <td>6</td>\n",
       "      <td>Mumbai</td>\n",
       "      <td>CAHariArora</td>\n",
       "    </tr>\n",
       "    <tr>\n",
       "      <th>16</th>\n",
       "      <td>2021-04-14 13:31:05+00:00</td>\n",
       "      <td>#Surat\\nNeed #Blood Type :  AB-positive\\nAt : ...</td>\n",
       "      <td>0</td>\n",
       "      <td>46</td>\n",
       "      <td>18</td>\n",
       "      <td>Mumbai</td>\n",
       "      <td>BloodDonorsIn</td>\n",
       "    </tr>\n",
       "    <tr>\n",
       "      <th>17</th>\n",
       "      <td>2021-04-14 12:39:09+00:00</td>\n",
       "      <td>Urgent Requirement \\n14.04.2021.\\nB+ Plazma\\nP...</td>\n",
       "      <td>0</td>\n",
       "      <td>2</td>\n",
       "      <td>2</td>\n",
       "      <td>Mumbai</td>\n",
       "      <td>CAHariArora</td>\n",
       "    </tr>\n",
       "    <tr>\n",
       "      <th>18</th>\n",
       "      <td>2021-04-14 03:49:36+00:00</td>\n",
       "      <td>Today,14th April:21, @OfficialStarAir\\nis Oper...</td>\n",
       "      <td>0</td>\n",
       "      <td>2</td>\n",
       "      <td>0</td>\n",
       "      <td>Mumbai</td>\n",
       "      <td>aaiblgairport</td>\n",
       "    </tr>\n",
       "    <tr>\n",
       "      <th>19</th>\n",
       "      <td>2021-04-13 17:20:20+00:00</td>\n",
       "      <td>@BloodDonorsIn #Surat \\nNeed #Blood #Plasma Ty...</td>\n",
       "      <td>1</td>\n",
       "      <td>2</td>\n",
       "      <td>0</td>\n",
       "      <td>Mumbai</td>\n",
       "      <td>anand_luhar</td>\n",
       "    </tr>\n",
       "    <tr>\n",
       "      <th>20</th>\n",
       "      <td>2021-04-13 14:42:03+00:00</td>\n",
       "      <td>#Urgent required \\nO positive covid recovered\\...</td>\n",
       "      <td>0</td>\n",
       "      <td>7</td>\n",
       "      <td>7</td>\n",
       "      <td>Mumbai</td>\n",
       "      <td>CAHariArora</td>\n",
       "    </tr>\n",
       "    <tr>\n",
       "      <th>21</th>\n",
       "      <td>2021-04-13 12:37:48+00:00</td>\n",
       "      <td>#Urgent required \\nO positive  covid recovered...</td>\n",
       "      <td>16</td>\n",
       "      <td>98</td>\n",
       "      <td>54</td>\n",
       "      <td>Mumbai</td>\n",
       "      <td>anand_luhar</td>\n",
       "    </tr>\n",
       "    <tr>\n",
       "      <th>22</th>\n",
       "      <td>2021-04-13 10:48:52+00:00</td>\n",
       "      <td>Emergency need Corona injection in Surat conta...</td>\n",
       "      <td>0</td>\n",
       "      <td>0</td>\n",
       "      <td>0</td>\n",
       "      <td>Mumbai</td>\n",
       "      <td>Mahi964</td>\n",
       "    </tr>\n",
       "    <tr>\n",
       "      <th>23</th>\n",
       "      <td>2021-04-13 07:15:51+00:00</td>\n",
       "      <td>@AmitShah lBhai inj. Tocilizumab 400 me not av...</td>\n",
       "      <td>1</td>\n",
       "      <td>0</td>\n",
       "      <td>0</td>\n",
       "      <td>Mumbai</td>\n",
       "      <td>MohanBodas</td>\n",
       "    </tr>\n",
       "    <tr>\n",
       "      <th>24</th>\n",
       "      <td>2021-04-13 04:11:21+00:00</td>\n",
       "      <td>#Surat\\nNeed #Blood Type :  A-positive\\nAt : S...</td>\n",
       "      <td>1</td>\n",
       "      <td>24</td>\n",
       "      <td>8</td>\n",
       "      <td>Mumbai</td>\n",
       "      <td>BloodDonorsIn</td>\n",
       "    </tr>\n",
       "    <tr>\n",
       "      <th>25</th>\n",
       "      <td>2021-04-13 03:59:01+00:00</td>\n",
       "      <td>@sanghaviharsh \\nMy friend's father is in crit...</td>\n",
       "      <td>2</td>\n",
       "      <td>0</td>\n",
       "      <td>0</td>\n",
       "      <td>Mumbai</td>\n",
       "      <td>pandya_dhruv_</td>\n",
       "    </tr>\n",
       "    <tr>\n",
       "      <th>26</th>\n",
       "      <td>2021-04-12 13:43:54+00:00</td>\n",
       "      <td>@BloodDonorsIn\\nUrgent blood plasma of A+ from...</td>\n",
       "      <td>0</td>\n",
       "      <td>0</td>\n",
       "      <td>0</td>\n",
       "      <td>Mumbai</td>\n",
       "      <td>rahulbmehta</td>\n",
       "    </tr>\n",
       "    <tr>\n",
       "      <th>27</th>\n",
       "      <td>2021-04-12 11:58:39+00:00</td>\n",
       "      <td>#Surat\\nNeed #Blood Type :  A-positive\\nAt : S...</td>\n",
       "      <td>2</td>\n",
       "      <td>37</td>\n",
       "      <td>20</td>\n",
       "      <td>Mumbai</td>\n",
       "      <td>BloodDonorsIn</td>\n",
       "    </tr>\n",
       "    <tr>\n",
       "      <th>28</th>\n",
       "      <td>2021-04-12 11:29:54+00:00</td>\n",
       "      <td>Need an icu bed in private hospital in surat f...</td>\n",
       "      <td>2</td>\n",
       "      <td>6</td>\n",
       "      <td>3</td>\n",
       "      <td>Mumbai</td>\n",
       "      <td>rishi05091989</td>\n",
       "    </tr>\n",
       "    <tr>\n",
       "      <th>29</th>\n",
       "      <td>2021-04-12 03:54:06+00:00</td>\n",
       "      <td>Today,12th April:21, @OfficialStarAir\\nis Oper...</td>\n",
       "      <td>0</td>\n",
       "      <td>1</td>\n",
       "      <td>2</td>\n",
       "      <td>Mumbai</td>\n",
       "      <td>aaiblgairport</td>\n",
       "    </tr>\n",
       "    <tr>\n",
       "      <th>30</th>\n",
       "      <td>2021-04-11 16:03:30+00:00</td>\n",
       "      <td>Date:- 11/4/2021\\nPatient Name: Jitu Tukaram D...</td>\n",
       "      <td>1</td>\n",
       "      <td>3</td>\n",
       "      <td>1</td>\n",
       "      <td>Mumbai</td>\n",
       "      <td>PallaviJaiswal0</td>\n",
       "    </tr>\n",
       "    <tr>\n",
       "      <th>31</th>\n",
       "      <td>2021-04-11 08:54:11+00:00</td>\n",
       "      <td>Urgent Requirement of B+ positive Plazma in Su...</td>\n",
       "      <td>0</td>\n",
       "      <td>3</td>\n",
       "      <td>4</td>\n",
       "      <td>Mumbai</td>\n",
       "      <td>CAHariArora</td>\n",
       "    </tr>\n",
       "    <tr>\n",
       "      <th>32</th>\n",
       "      <td>2021-04-09 03:54:54+00:00</td>\n",
       "      <td>Today, 9th April:21, @OfficialStarAir\\nis Oper...</td>\n",
       "      <td>0</td>\n",
       "      <td>1</td>\n",
       "      <td>3</td>\n",
       "      <td>Mumbai</td>\n",
       "      <td>aaiblgairport</td>\n",
       "    </tr>\n",
       "    <tr>\n",
       "      <th>33</th>\n",
       "      <td>2021-04-09 00:39:23+00:00</td>\n",
       "      <td>#Surat\\nNeed #Blood Type :  A-positive\\nAt : P...</td>\n",
       "      <td>0</td>\n",
       "      <td>28</td>\n",
       "      <td>4</td>\n",
       "      <td>Mumbai</td>\n",
       "      <td>BloodDonorsIn</td>\n",
       "    </tr>\n",
       "    <tr>\n",
       "      <th>34</th>\n",
       "      <td>2021-04-08 19:30:10+00:00</td>\n",
       "      <td>One of our friend's friend Harsukh Rakholiya w...</td>\n",
       "      <td>0</td>\n",
       "      <td>1</td>\n",
       "      <td>2</td>\n",
       "      <td>Mumbai</td>\n",
       "      <td>BloodsevaIndia</td>\n",
       "    </tr>\n",
       "    <tr>\n",
       "      <th>35</th>\n",
       "      <td>2021-04-08 18:43:31+00:00</td>\n",
       "      <td>One of our friend's friend Harsukh Rakholiya w...</td>\n",
       "      <td>3</td>\n",
       "      <td>0</td>\n",
       "      <td>0</td>\n",
       "      <td>Mumbai</td>\n",
       "      <td>darpankdesai</td>\n",
       "    </tr>\n",
       "    <tr>\n",
       "      <th>36</th>\n",
       "      <td>2021-04-08 16:26:14+00:00</td>\n",
       "      <td>“My dada ji is 73yr old and Covid-19 infected....</td>\n",
       "      <td>12</td>\n",
       "      <td>80</td>\n",
       "      <td>122</td>\n",
       "      <td>Mumbai</td>\n",
       "      <td>MehHarshil</td>\n",
       "    </tr>\n",
       "    <tr>\n",
       "      <th>37</th>\n",
       "      <td>2021-04-08 06:33:06+00:00</td>\n",
       "      <td>@ishubhampoddar @BloodDonorsIn @BloodAid URGEN...</td>\n",
       "      <td>1</td>\n",
       "      <td>0</td>\n",
       "      <td>0</td>\n",
       "      <td>Mumbai</td>\n",
       "      <td>Rahul54499642</td>\n",
       "    </tr>\n",
       "    <tr>\n",
       "      <th>38</th>\n",
       "      <td>2021-04-07 08:32:28+00:00</td>\n",
       "      <td>Today, 7th April:21, @OfficialStarAir\\nis Oper...</td>\n",
       "      <td>1</td>\n",
       "      <td>1</td>\n",
       "      <td>3</td>\n",
       "      <td>Mumbai</td>\n",
       "      <td>aaiblgairport</td>\n",
       "    </tr>\n",
       "    <tr>\n",
       "      <th>39</th>\n",
       "      <td>2021-04-04 06:55:53+00:00</td>\n",
       "      <td>@BloodDonorsIn @sanghaviharsh\\n@Helpinghandssr...</td>\n",
       "      <td>2</td>\n",
       "      <td>0</td>\n",
       "      <td>0</td>\n",
       "      <td>Mumbai</td>\n",
       "      <td>Baatunibabag</td>\n",
       "    </tr>\n",
       "    <tr>\n",
       "      <th>40</th>\n",
       "      <td>2021-04-02 13:32:47+00:00</td>\n",
       "      <td>Urgent *Covid Plasma* Require\\n\\nBlood Group -...</td>\n",
       "      <td>1</td>\n",
       "      <td>0</td>\n",
       "      <td>0</td>\n",
       "      <td>Mumbai</td>\n",
       "      <td>chetanvhadiya</td>\n",
       "    </tr>\n",
       "    <tr>\n",
       "      <th>41</th>\n",
       "      <td>2021-04-02 11:42:47+00:00</td>\n",
       "      <td>#Surat\\nNeed #Blood Type :  O-positive\\nAt : B...</td>\n",
       "      <td>0</td>\n",
       "      <td>36</td>\n",
       "      <td>4</td>\n",
       "      <td>Mumbai</td>\n",
       "      <td>BloodDonorsIn</td>\n",
       "    </tr>\n",
       "  </tbody>\n",
       "</table>\n",
       "</div>"
      ],
      "text/plain": [
       "                         date  \\\n",
       "0   2021-04-19 17:18:28+00:00   \n",
       "1   2021-04-19 16:27:39+00:00   \n",
       "2   2021-04-19 05:38:35+00:00   \n",
       "3   2021-04-19 05:35:17+00:00   \n",
       "4   2021-04-19 04:30:26+00:00   \n",
       "5   2021-04-19 03:45:24+00:00   \n",
       "6   2021-04-18 02:07:04+00:00   \n",
       "7   2021-04-18 02:06:37+00:00   \n",
       "8   2021-04-17 13:26:24+00:00   \n",
       "9   2021-04-17 03:49:09+00:00   \n",
       "10  2021-04-16 14:56:24+00:00   \n",
       "11  2021-04-16 11:03:38+00:00   \n",
       "12  2021-04-16 06:48:15+00:00   \n",
       "13  2021-04-15 19:24:44+00:00   \n",
       "14  2021-04-15 15:57:06+00:00   \n",
       "15  2021-04-14 19:28:28+00:00   \n",
       "16  2021-04-14 13:31:05+00:00   \n",
       "17  2021-04-14 12:39:09+00:00   \n",
       "18  2021-04-14 03:49:36+00:00   \n",
       "19  2021-04-13 17:20:20+00:00   \n",
       "20  2021-04-13 14:42:03+00:00   \n",
       "21  2021-04-13 12:37:48+00:00   \n",
       "22  2021-04-13 10:48:52+00:00   \n",
       "23  2021-04-13 07:15:51+00:00   \n",
       "24  2021-04-13 04:11:21+00:00   \n",
       "25  2021-04-13 03:59:01+00:00   \n",
       "26  2021-04-12 13:43:54+00:00   \n",
       "27  2021-04-12 11:58:39+00:00   \n",
       "28  2021-04-12 11:29:54+00:00   \n",
       "29  2021-04-12 03:54:06+00:00   \n",
       "30  2021-04-11 16:03:30+00:00   \n",
       "31  2021-04-11 08:54:11+00:00   \n",
       "32  2021-04-09 03:54:54+00:00   \n",
       "33  2021-04-09 00:39:23+00:00   \n",
       "34  2021-04-08 19:30:10+00:00   \n",
       "35  2021-04-08 18:43:31+00:00   \n",
       "36  2021-04-08 16:26:14+00:00   \n",
       "37  2021-04-08 06:33:06+00:00   \n",
       "38  2021-04-07 08:32:28+00:00   \n",
       "39  2021-04-04 06:55:53+00:00   \n",
       "40  2021-04-02 13:32:47+00:00   \n",
       "41  2021-04-02 11:42:47+00:00   \n",
       "\n",
       "                                              content  replyCount  \\\n",
       "0   URGENT... URGENT\\n\\nREQUIRE \"O+\" PLAZMA DONOR ...           1   \n",
       "1   @BloodDonorsIn \\nIn urgent need of Plasma dono...           4   \n",
       "2   Dear @sanghaviharsh @CRPaatil \\nEXTREME URGENT...           3   \n",
       "3   #Surat\\nNeed #Blood Type :  O-positive\\nAt : M...           1   \n",
       "4   Name : Ravindra Devidas Patil\\nHosptial name :...           1   \n",
       "5   Today,19th April:21, @OfficialStarAir\\nis Oper...           0   \n",
       "6   #Surat\\nNeed #Blood Type :  A-positive\\nAt : C...           0   \n",
       "7   #Surat\\nNeed #Blood Type :  A-positive\\nAt : C...           2   \n",
       "8   @BloodDonorsIn \\nNeed A+ blood plasma\\nCivil h...           0   \n",
       "9   #Surat\\nNeed #Blood Type :  A-positive\\nAt : C...           0   \n",
       "10  *Very very Urgent required* \\n\\nO+ve plasma ( ...           2   \n",
       "11  Urgent :-  *Covid Plasma Require*\\n\\nBlood Gro...           0   \n",
       "12  Today,16th April:21, @OfficialStarAir\\nis Oper...           0   \n",
       "13  #Surat\\nNeed #Blood Type :  O-positive\\nAt : C...           1   \n",
       "14  #Surat\\nNeed #Blood Type :  O-positive\\nAt : C...           0   \n",
       "15  Urgent Requirement \\n14-4-2021 9:00PM \\nO+ Pla...           0   \n",
       "16  #Surat\\nNeed #Blood Type :  AB-positive\\nAt : ...           0   \n",
       "17  Urgent Requirement \\n14.04.2021.\\nB+ Plazma\\nP...           0   \n",
       "18  Today,14th April:21, @OfficialStarAir\\nis Oper...           0   \n",
       "19  @BloodDonorsIn #Surat \\nNeed #Blood #Plasma Ty...           1   \n",
       "20  #Urgent required \\nO positive covid recovered\\...           0   \n",
       "21  #Urgent required \\nO positive  covid recovered...          16   \n",
       "22  Emergency need Corona injection in Surat conta...           0   \n",
       "23  @AmitShah lBhai inj. Tocilizumab 400 me not av...           1   \n",
       "24  #Surat\\nNeed #Blood Type :  A-positive\\nAt : S...           1   \n",
       "25  @sanghaviharsh \\nMy friend's father is in crit...           2   \n",
       "26  @BloodDonorsIn\\nUrgent blood plasma of A+ from...           0   \n",
       "27  #Surat\\nNeed #Blood Type :  A-positive\\nAt : S...           2   \n",
       "28  Need an icu bed in private hospital in surat f...           2   \n",
       "29  Today,12th April:21, @OfficialStarAir\\nis Oper...           0   \n",
       "30  Date:- 11/4/2021\\nPatient Name: Jitu Tukaram D...           1   \n",
       "31  Urgent Requirement of B+ positive Plazma in Su...           0   \n",
       "32  Today, 9th April:21, @OfficialStarAir\\nis Oper...           0   \n",
       "33  #Surat\\nNeed #Blood Type :  A-positive\\nAt : P...           0   \n",
       "34  One of our friend's friend Harsukh Rakholiya w...           0   \n",
       "35  One of our friend's friend Harsukh Rakholiya w...           3   \n",
       "36  “My dada ji is 73yr old and Covid-19 infected....          12   \n",
       "37  @ishubhampoddar @BloodDonorsIn @BloodAid URGEN...           1   \n",
       "38  Today, 7th April:21, @OfficialStarAir\\nis Oper...           1   \n",
       "39  @BloodDonorsIn @sanghaviharsh\\n@Helpinghandssr...           2   \n",
       "40  Urgent *Covid Plasma* Require\\n\\nBlood Group -...           1   \n",
       "41  #Surat\\nNeed #Blood Type :  O-positive\\nAt : B...           0   \n",
       "\n",
       "    retweetCount  likeCount    city         username  \n",
       "0             13         11  Mumbai      CAHariArora  \n",
       "1              6          0  Mumbai    NikunjAmipara  \n",
       "2             11          8  Mumbai      arvindg1970  \n",
       "3             49         11  Mumbai    BloodDonorsIn  \n",
       "4             27         10  Mumbai      anand_luhar  \n",
       "5              0          2  Mumbai    aaiblgairport  \n",
       "6              1          0  Mumbai     PANDIT_RJ_34  \n",
       "7             29          8  Mumbai    BloodDonorsIn  \n",
       "8              1          1  Mumbai       _imbhavesh  \n",
       "9             32         11  Mumbai    BloodDonorsIn  \n",
       "10             4          3  Mumbai    Paragjain_IND  \n",
       "11             1          1  Mumbai    IJatinSojitra  \n",
       "12             1          1  Mumbai    aaiblgairport  \n",
       "13             1          0  Mumbai  BloodMattersorg  \n",
       "14            39          9  Mumbai    BloodDonorsIn  \n",
       "15             2          6  Mumbai      CAHariArora  \n",
       "16            46         18  Mumbai    BloodDonorsIn  \n",
       "17             2          2  Mumbai      CAHariArora  \n",
       "18             2          0  Mumbai    aaiblgairport  \n",
       "19             2          0  Mumbai      anand_luhar  \n",
       "20             7          7  Mumbai      CAHariArora  \n",
       "21            98         54  Mumbai      anand_luhar  \n",
       "22             0          0  Mumbai          Mahi964  \n",
       "23             0          0  Mumbai       MohanBodas  \n",
       "24            24          8  Mumbai    BloodDonorsIn  \n",
       "25             0          0  Mumbai    pandya_dhruv_  \n",
       "26             0          0  Mumbai      rahulbmehta  \n",
       "27            37         20  Mumbai    BloodDonorsIn  \n",
       "28             6          3  Mumbai    rishi05091989  \n",
       "29             1          2  Mumbai    aaiblgairport  \n",
       "30             3          1  Mumbai  PallaviJaiswal0  \n",
       "31             3          4  Mumbai      CAHariArora  \n",
       "32             1          3  Mumbai    aaiblgairport  \n",
       "33            28          4  Mumbai    BloodDonorsIn  \n",
       "34             1          2  Mumbai   BloodsevaIndia  \n",
       "35             0          0  Mumbai     darpankdesai  \n",
       "36            80        122  Mumbai       MehHarshil  \n",
       "37             0          0  Mumbai    Rahul54499642  \n",
       "38             1          3  Mumbai    aaiblgairport  \n",
       "39             0          0  Mumbai     Baatunibabag  \n",
       "40             0          0  Mumbai    chetanvhadiya  \n",
       "41            36          4  Mumbai    BloodDonorsIn  "
      ]
     },
     "execution_count": 26,
     "metadata": {},
     "output_type": "execute_result"
    }
   ],
   "source": [
    "pd.read_csv('Surat_emergency_tweets.csv')"
   ]
  },
  {
   "cell_type": "code",
   "execution_count": null,
   "id": "contained-single",
   "metadata": {},
   "outputs": [],
   "source": [
    "def Scraper_Baroda(city):\n",
    "    query = 'snscrape --jsonl --max-results 10000 twitter-search \"((\"covid\" OR \"corona\" OR \"coronavirus\" OR \"positive\" OR \"ve\") AND ' + str(city) + ') AND ((((\"need\" OR \"help\" OR \"required\" OR \"require\" OR \"want\") AND (\"ventilator\" OR \"remdesivir\" OR \"plasma\" OR \"oxygen\" OR \"bed\" OR \"blood\")) OR \"urgent\" OR \"SOS\" OR \"emergency\") AND (\"contact\" OR \"mobile\" OR \"call\" OR \"number\" OR \"91\" OR \"message\" OR \"phone\" OR \"num\" OR \"tel\")) since:2021-03-01\" > covid_data.json'\n",
    "    os.system(query)\n",
    "    \n",
    "    df = pd.read_json('covid_data.json', lines=True)\n",
    "    if df.shape[0] == 0:\n",
    "        pass\n",
    "    else:\n",
    "        df = df[['date', 'content','user','replyCount','retweetCount','likeCount']]\n",
    "        df['city']= 'Vadodara'\n",
    "\n",
    "    usernames=[]\n",
    "    for i in range(len(df)):\n",
    "        usernames.append(df.loc[i,'user']['username'])\n",
    "    df['username'] = usernames\n",
    "    df.drop('user',1, inplace=True)\n",
    "\n",
    "    filename= str(city)+'_emergency_tweets.csv'\n",
    "    df.to_csv(filename, index=False)"
   ]
  },
  {
   "cell_type": "code",
   "execution_count": null,
   "id": "driving-fabric",
   "metadata": {},
   "outputs": [],
   "source": [
    "def Scraper_Bengalore(city):\n",
    "    query = 'snscrape --jsonl --max-results 10000 twitter-search \"((\"covid\" OR \"corona\" OR \"coronavirus\" OR \"positive\" OR \"ve\") AND ' + str(city) + ') AND ((((\"need\" OR \"help\" OR \"required\" OR \"require\" OR \"want\") AND (\"ventilator\" OR \"remdesivir\" OR \"plasma\" OR \"oxygen\" OR \"bed\" OR \"blood\")) OR \"urgent\" OR \"SOS\" OR \"emergency\") AND (\"contact\" OR \"mobile\" OR \"call\" OR \"number\" OR \"91\" OR \"message\" OR \"phone\" OR \"num\" OR \"tel\")) since:2021-03-01\" > covid_data.json'\n",
    "    os.system(query)\n",
    "    \n",
    "    df = pd.read_json('covid_data.json', lines=True)\n",
    "    if df.shape[0] == 0:\n",
    "        pass\n",
    "    else:\n",
    "        df = df[['date', 'content','user','replyCount','retweetCount','likeCount']]\n",
    "        df['city']= 'Bengaluru'\n",
    "\n",
    "    usernames=[]\n",
    "    for i in range(len(df)):\n",
    "        usernames.append(df.loc[i,'user']['username'])\n",
    "    df['username'] = usernames\n",
    "    df.drop('user',1, inplace=True)\n",
    "\n",
    "    filename= str(city)+'_emergency_tweets.csv'\n",
    "    df.to_csv(filename, index=False)"
   ]
  },
  {
   "cell_type": "code",
   "execution_count": null,
   "id": "limiting-trail",
   "metadata": {},
   "outputs": [],
   "source": [
    "def Scraper_Madras(city):\n",
    "    query = 'snscrape --jsonl --max-results 10000 twitter-search \"((\"covid\" OR \"corona\" OR \"coronavirus\" OR \"positive\" OR \"ve\") AND ' + str(city) + ') AND ((((\"need\" OR \"help\" OR \"required\" OR \"require\" OR \"want\") AND (\"ventilator\" OR \"remdesivir\" OR \"plasma\" OR \"oxygen\" OR \"bed\" OR \"blood\")) OR \"urgent\" OR \"SOS\" OR \"emergency\") AND (\"contact\" OR \"mobile\" OR \"call\" OR \"number\" OR \"91\" OR \"message\" OR \"phone\" OR \"num\" OR \"tel\")) since:2021-03-01\" > covid_data.json'\n",
    "    os.system(query)\n",
    "    \n",
    "    df = pd.read_json('covid_data.json', lines=True)\n",
    "    if df.shape[0] == 0:\n",
    "        pass\n",
    "    else:\n",
    "        df = df[['date', 'content','user','replyCount','retweetCount','likeCount']]\n",
    "        df['city']= 'Chennai'\n",
    "\n",
    "    usernames=[]\n",
    "    for i in range(len(df)):\n",
    "        usernames.append(df.loc[i,'user']['username'])\n",
    "    df['username'] = usernames\n",
    "    df.drop('user',1, inplace=True)\n",
    "\n",
    "    filename= str(city)+'_emergency_tweets.csv'\n",
    "    df.to_csv(filename, index=False)"
   ]
  },
  {
   "cell_type": "code",
   "execution_count": null,
   "id": "impressed-sydney",
   "metadata": {},
   "outputs": [],
   "source": [
    "# cities with alternative names\n",
    "Scraper_Bombay('Bombay')\n",
    "Scraper_Bengalore('Bengalore')\n",
    "Scraper_Baroda('Baroda')\n",
    "Scraper_Madras('Madras')"
   ]
  },
  {
   "cell_type": "code",
   "execution_count": null,
   "id": "beautiful-dover",
   "metadata": {},
   "outputs": [],
   "source": [
    "#below code will create json file for all the cities in city_list\n",
    "#for city in tqdm(city_list):\n",
    "    #Scraper(city)"
   ]
  },
  {
   "cell_type": "code",
   "execution_count": 161,
   "id": "disabled-craps",
   "metadata": {},
   "outputs": [],
   "source": [
    "added_city_list = ['Bombay','Baroda','Madras','Bengalore']\n",
    "for x in added_city_list:\n",
    "  city_list.append(x)"
   ]
  },
  {
   "cell_type": "code",
   "execution_count": 162,
   "id": "mysterious-miracle",
   "metadata": {},
   "outputs": [],
   "source": [
    "#creatig final dataframe\n",
    "df_list=[]\n",
    "for city in city_list:\n",
    "    filename= str(city)+'_emergency_tweets.csv'\n",
    "    df = pd.read_csv(filename)\n",
    "    df_list.append(df)"
   ]
  },
  {
   "cell_type": "code",
   "execution_count": 163,
   "id": "weighted-sydney",
   "metadata": {},
   "outputs": [],
   "source": [
    "df_final = pd.concat([i for i in df_list])"
   ]
  },
  {
   "cell_type": "code",
   "execution_count": 90,
   "id": "electoral-russell",
   "metadata": {},
   "outputs": [
    {
     "ename": "NameError",
     "evalue": "name 'df_final' is not defined",
     "output_type": "error",
     "traceback": [
      "\u001b[1;31m---------------------------------------------------------------------------\u001b[0m",
      "\u001b[1;31mNameError\u001b[0m                                 Traceback (most recent call last)",
      "\u001b[1;32m<ipython-input-90-a36525e90234>\u001b[0m in \u001b[0;36m<module>\u001b[1;34m\u001b[0m\n\u001b[1;32m----> 1\u001b[1;33m \u001b[0mdf_final\u001b[0m\u001b[1;33m.\u001b[0m\u001b[0mto_csv\u001b[0m\u001b[1;33m(\u001b[0m\u001b[1;34m'India_emergency_tweet.csv'\u001b[0m\u001b[1;33m,\u001b[0m \u001b[0mindex\u001b[0m\u001b[1;33m=\u001b[0m\u001b[1;32mFalse\u001b[0m\u001b[1;33m)\u001b[0m\u001b[1;33m\u001b[0m\u001b[1;33m\u001b[0m\u001b[0m\n\u001b[0m\u001b[0;32m      2\u001b[0m \u001b[1;31m#exporting data for covenient use\u001b[0m\u001b[1;33m\u001b[0m\u001b[1;33m\u001b[0m\u001b[1;33m\u001b[0m\u001b[0m\n",
      "\u001b[1;31mNameError\u001b[0m: name 'df_final' is not defined"
     ]
    }
   ],
   "source": [
    "df_final.to_csv('India_emergency_tweet.csv', index=False)\n",
    "#exporting data for covenient use"
   ]
  },
  {
   "cell_type": "markdown",
   "id": "basic-yorkshire",
   "metadata": {},
   "source": [
    "## Preprocessing the Data"
   ]
  },
  {
   "cell_type": "code",
   "execution_count": 98,
   "id": "vocal-collaboration",
   "metadata": {},
   "outputs": [],
   "source": [
    "import numpy as np\n",
    "try:\n",
    "    from sklearn.preprocessing import MinMaxScaler\n",
    "except:\n",
    "    os.system('pip3 install scikit-learn')\n",
    "    from sklearn.preprocessing import MinMaxScaler"
   ]
  },
  {
   "cell_type": "code",
   "execution_count": 35,
   "id": "english-texas",
   "metadata": {},
   "outputs": [],
   "source": [
    "df = pd.read_csv('India_emergency_tweet.csv')\n",
    "#read the data"
   ]
  },
  {
   "cell_type": "code",
   "execution_count": 89,
   "id": "answering-cancellation",
   "metadata": {},
   "outputs": [
    {
     "data": {
      "text/plain": [
       "(15486, 7)"
      ]
     },
     "execution_count": 89,
     "metadata": {},
     "output_type": "execute_result"
    }
   ],
   "source": [
    "df.shape"
   ]
  },
  {
   "cell_type": "code",
   "execution_count": 36,
   "id": "grand-start",
   "metadata": {},
   "outputs": [],
   "source": [
    "df = df.drop_duplicates(['content','date','username'])\n",
    "#removing the duplicate tweets"
   ]
  },
  {
   "cell_type": "code",
   "execution_count": 37,
   "id": "light-senegal",
   "metadata": {},
   "outputs": [],
   "source": [
    "df['Date'] = pd.to_datetime(df['date'], utc=False)\n",
    "#changing Date into datetime format"
   ]
  },
  {
   "cell_type": "code",
   "execution_count": 38,
   "id": "civic-touch",
   "metadata": {},
   "outputs": [],
   "source": [
    "df['Date'] = df['Date'].dt.date\n",
    "#keeping only date"
   ]
  },
  {
   "cell_type": "code",
   "execution_count": 39,
   "id": "committed-royal",
   "metadata": {},
   "outputs": [],
   "source": [
    "df = df.sort_values('Date')"
   ]
  },
  {
   "cell_type": "code",
   "execution_count": 40,
   "id": "typical-bermuda",
   "metadata": {},
   "outputs": [],
   "source": [
    "df.drop('date', 1, inplace=True)"
   ]
  },
  {
   "cell_type": "code",
   "execution_count": 41,
   "id": "grand-processing",
   "metadata": {},
   "outputs": [],
   "source": [
    "df = df.set_index('Date')"
   ]
  },
  {
   "cell_type": "code",
   "execution_count": 43,
   "id": "referenced-belly",
   "metadata": {},
   "outputs": [
    {
     "data": {
      "text/plain": [
       "(15486, 7)"
      ]
     },
     "execution_count": 43,
     "metadata": {},
     "output_type": "execute_result"
    }
   ],
   "source": [
    "df.shape"
   ]
  },
  {
   "cell_type": "markdown",
   "id": "fifty-going",
   "metadata": {},
   "source": [
    "## Visualization"
   ]
  },
  {
   "cell_type": "code",
   "execution_count": 80,
   "id": "temporal-baseline",
   "metadata": {},
   "outputs": [],
   "source": [
    "try:\n",
    "    import matplotlib.pyplot as plt\n",
    "    import seaborn as sns\n",
    "except:\n",
    "    os.system('pip3 install matplotlib')\n",
    "    os.system('pip3 install seaborn')\n",
    "    import matplotlib.pyplot as plt\n",
    "    import seaborn as sns"
   ]
  },
  {
   "cell_type": "code",
   "execution_count": null,
   "id": "later-binary",
   "metadata": {},
   "outputs": [],
   "source": [
    "scaler = MinMaxScaler(feature_range=(0.75,1))"
   ]
  },
  {
   "cell_type": "code",
   "execution_count": null,
   "id": "anticipated-antarctica",
   "metadata": {},
   "outputs": [],
   "source": [
    "alphas = scaler.fit_transform(np.flip(df['city'].value_counts().reset_index().head(15)['city'].values.reshape(-1,1)))\n",
    "alphas = np.flip(alphas)\n",
    "flat_list = list(np.concatenate(alphas).flat)"
   ]
  },
  {
   "cell_type": "code",
   "execution_count": 47,
   "id": "fabulous-insurance",
   "metadata": {},
   "outputs": [
    {
     "data": {
      "image/png": "[encoded data removed]",
      "text/plain": [
       "<Figure size 720x432 with 1 Axes>"
      ]
     },
     "metadata": {
      "needs_background": "light"
     },
     "output_type": "display_data"
    }
   ],
   "source": [
    "plt.figure(figsize=(10,6))\n",
    "\n",
    "ax = sns.barplot(y='index', x='city',color='#1DA1F2',\n",
    "            data=df['city'].value_counts().reset_index().head(15))\n",
    "ax.set_axisbelow(True)\n",
    "ax.xaxis.grid(color='#1DA1F2', linestyle='-.', alpha=0.5)\n",
    "plt.xticks(fontstyle='italic', fontsize=12)\n",
    "plt.yticks(fontname = \"Arial\", fontstyle='italic', fontsize=13)\n",
    "plt.xlabel('Total Number Of Emergency Tweets',fontsize=14)\n",
    "plt.ylabel('City', fontsize=14)\n",
    "plt.title('India 2nd wave Emergency Tweets from Hotspot cities', fontsize=16)\n",
    "\n",
    "for bar, alpha in zip(ax.containers[0], flat_list):\n",
    "    bar.set_alpha(alpha)\n",
    "\n",
    "plt.show()"
   ]
  },
  {
   "cell_type": "markdown",
   "id": "planned-calibration",
   "metadata": {},
   "source": [
    "### Plot against time "
   ]
  },
  {
   "cell_type": "code",
   "execution_count": 81,
   "id": "burning-chicago",
   "metadata": {},
   "outputs": [],
   "source": [
    "try:\n",
    "    import plotly.express as px\n",
    "except:\n",
    "    os.system('pip3 install plotly')\n",
    "    import plotly.express as px"
   ]
  },
  {
   "cell_type": "code",
   "execution_count": 53,
   "id": "accredited-supplement",
   "metadata": {},
   "outputs": [],
   "source": [
    "city_grp = df.groupby('Date')"
   ]
  },
  {
   "cell_type": "code",
   "execution_count": 84,
   "id": "amazing-pillow",
   "metadata": {},
   "outputs": [],
   "source": [
    "keep_list = df['city'].value_counts().reset_index().head(10)['index'].values"
   ]
  },
  {
   "cell_type": "code",
   "execution_count": 85,
   "id": "subjective-compound",
   "metadata": {},
   "outputs": [],
   "source": [
    "df_new = city_grp['city'].value_counts().reset_index(name=\"counts\")"
   ]
  },
  {
   "cell_type": "code",
   "execution_count": 86,
   "id": "effective-environment",
   "metadata": {},
   "outputs": [],
   "source": [
    "df_new = df_new[df_new.isin(keep_list).values]"
   ]
  },
  {
   "cell_type": "code",
   "execution_count": 108,
   "id": "moderate-custody",
   "metadata": {},
   "outputs": [
    {
     "data": {
      "image/png": "[encoded data removed]",
      "text/plain": [
       "<Figure size 864x432 with 1 Axes>"
      ]
     },
     "metadata": {
      "needs_background": "light"
     },
     "output_type": "display_data"
    }
   ],
   "source": [
    "plt.figure(figsize=(12,6))\n",
    "ax = sns.lineplot(x='Date', y='counts', hue='city',data=df_new)\n",
    "ax.set_axisbelow(True)\n",
    "ax.yaxis.grid(color='black', linestyle='--', alpha=0.8)\n",
    "plt.xticks(fontstyle='italic', fontsize=12)\n",
    "plt.yticks(fontname = \"Arial\", fontstyle='italic', fontsize=13)\n",
    "plt.xlabel('Date tweet posted',fontsize=14)\n",
    "plt.ylabel('Total Number of Tweets', fontsize=14)\n",
    "plt.title('India 2nd wave Emergency Tweets from Hotspot cities over time', fontsize=16)\n",
    "plt.show()"
   ]
  },
  {
   "cell_type": "code",
   "execution_count": 88,
   "id": "champion-maine",
   "metadata": {},
   "outputs": [
    {
     "data": {
      "application/vnd.plotly.v1+json": {
       "config": {
        "plotlyServerURL": "https://plotly.com"
       },
       "data": [
        {
         "hovertemplate": "city=Hyderabad<br>Date=%{x}<br>counts=%{y}<extra></extra>",
         "legendgroup": "Hyderabad",
         "line": {
          "color": "#636efa",
          "dash": "solid"
         },
         "mode": "lines",
         "name": "Hyderabad",
         "orientation": "v",
         "showlegend": true,
         "type": "scatter",
         "x": [
          "2021-03-01",
          "2021-03-02",
          "2021-03-03",
          "2021-03-04",
          "2021-03-05",
          "2021-03-06",
          "2021-03-07",
          "2021-03-08",
          "2021-03-09",
          "2021-03-10",
          "2021-03-11",
          "2021-03-12",
          "2021-03-13",
          "2021-03-14",
          "2021-03-15",
          "2021-03-16",
          "2021-03-17",
          "2021-03-19",
          "2021-03-20",
          "2021-03-21",
          "2021-03-22",
          "2021-03-23",
          "2021-03-24",
          "2021-03-25",
          "2021-03-26",
          "2021-03-27",
          "2021-03-28",
          "2021-03-29",
          "2021-03-30",
          "2021-03-31",
          "2021-04-01",
          "2021-04-02",
          "2021-04-03",
          "2021-04-04",
          "2021-04-05",
          "2021-04-06",
          "2021-04-07",
          "2021-04-08",
          "2021-04-09",
          "2021-04-10",
          "2021-04-11",
          "2021-04-12",
          "2021-04-13",
          "2021-04-14",
          "2021-04-15",
          "2021-04-16",
          "2021-04-17",
          "2021-04-18",
          "2021-04-19",
          "2021-04-20",
          "2021-04-21"
         ],
         "xaxis": "x",
         "y": [
          4,
          28,
          30,
          6,
          12,
          7,
          6,
          6,
          21,
          13,
          8,
          8,
          8,
          12,
          5,
          13,
          23,
          8,
          17,
          28,
          22,
          20,
          26,
          19,
          16,
          23,
          13,
          16,
          19,
          35,
          20,
          21,
          32,
          28,
          28,
          35,
          39,
          33,
          22,
          26,
          32,
          18,
          38,
          40,
          55,
          78,
          104,
          89,
          68,
          89,
          33
         ],
         "yaxis": "y"
        },
        {
         "hovertemplate": "city=Mumbai<br>Date=%{x}<br>counts=%{y}<extra></extra>",
         "legendgroup": "Mumbai",
         "line": {
          "color": "#EF553B",
          "dash": "solid"
         },
         "mode": "lines",
         "name": "Mumbai",
         "orientation": "v",
         "showlegend": true,
         "type": "scatter",
         "x": [
          "2021-03-01",
          "2021-03-02",
          "2021-03-05",
          "2021-03-06",
          "2021-03-07",
          "2021-03-08",
          "2021-03-09",
          "2021-03-10",
          "2021-03-11",
          "2021-03-12",
          "2021-03-13",
          "2021-03-14",
          "2021-03-15",
          "2021-03-16",
          "2021-03-17",
          "2021-03-19",
          "2021-03-20",
          "2021-03-21",
          "2021-03-22",
          "2021-03-23",
          "2021-03-24",
          "2021-03-25",
          "2021-03-26",
          "2021-03-27",
          "2021-03-28",
          "2021-03-29",
          "2021-03-30",
          "2021-03-31",
          "2021-04-01",
          "2021-04-02",
          "2021-04-03",
          "2021-04-04",
          "2021-04-05",
          "2021-04-06",
          "2021-04-07",
          "2021-04-08",
          "2021-04-09",
          "2021-04-10",
          "2021-04-11",
          "2021-04-12",
          "2021-04-13",
          "2021-04-14",
          "2021-04-15",
          "2021-04-16",
          "2021-04-17",
          "2021-04-18",
          "2021-04-19",
          "2021-04-20",
          "2021-04-21"
         ],
         "xaxis": "x",
         "y": [
          4,
          4,
          9,
          2,
          1,
          3,
          5,
          17,
          3,
          3,
          2,
          1,
          4,
          7,
          3,
          4,
          4,
          4,
          17,
          10,
          12,
          17,
          14,
          13,
          15,
          19,
          21,
          15,
          22,
          12,
          16,
          32,
          12,
          31,
          32,
          43,
          32,
          25,
          28,
          17,
          47,
          27,
          29,
          60,
          71,
          100,
          98,
          107,
          27
         ],
         "yaxis": "y"
        },
        {
         "hovertemplate": "city=Pune<br>Date=%{x}<br>counts=%{y}<extra></extra>",
         "legendgroup": "Pune",
         "line": {
          "color": "#00cc96",
          "dash": "solid"
         },
         "mode": "lines",
         "name": "Pune",
         "orientation": "v",
         "showlegend": true,
         "type": "scatter",
         "x": [
          "2021-03-01",
          "2021-03-02",
          "2021-03-03",
          "2021-03-04",
          "2021-03-05",
          "2021-03-06",
          "2021-03-07",
          "2021-03-08",
          "2021-03-09",
          "2021-03-10",
          "2021-03-11",
          "2021-03-12",
          "2021-03-13",
          "2021-03-14",
          "2021-03-15",
          "2021-03-16",
          "2021-03-17",
          "2021-03-19",
          "2021-03-20",
          "2021-03-21",
          "2021-03-22",
          "2021-03-23",
          "2021-03-24",
          "2021-03-25",
          "2021-03-26",
          "2021-03-27",
          "2021-03-28",
          "2021-03-29",
          "2021-03-30",
          "2021-03-31",
          "2021-04-01",
          "2021-04-02",
          "2021-04-03",
          "2021-04-04",
          "2021-04-05",
          "2021-04-06",
          "2021-04-07",
          "2021-04-08",
          "2021-04-09",
          "2021-04-10",
          "2021-04-11",
          "2021-04-12",
          "2021-04-13",
          "2021-04-14",
          "2021-04-15",
          "2021-04-16",
          "2021-04-17",
          "2021-04-18",
          "2021-04-19",
          "2021-04-20",
          "2021-04-21"
         ],
         "xaxis": "x",
         "y": [
          3,
          15,
          18,
          5,
          10,
          15,
          5,
          2,
          14,
          19,
          3,
          8,
          7,
          8,
          8,
          4,
          11,
          13,
          17,
          8,
          8,
          40,
          13,
          11,
          39,
          15,
          27,
          7,
          10,
          7,
          25,
          16,
          17,
          26,
          29,
          23,
          37,
          17,
          9,
          20,
          25,
          37,
          36,
          36,
          23,
          77,
          39,
          68,
          73,
          58,
          8
         ],
         "yaxis": "y"
        },
        {
         "hovertemplate": "city=Delhi<br>Date=%{x}<br>counts=%{y}<extra></extra>",
         "legendgroup": "Delhi",
         "line": {
          "color": "#ab63fa",
          "dash": "solid"
         },
         "mode": "lines",
         "name": "Delhi",
         "orientation": "v",
         "showlegend": true,
         "type": "scatter",
         "x": [
          "2021-03-02",
          "2021-03-03",
          "2021-03-04",
          "2021-03-05",
          "2021-03-06",
          "2021-03-08",
          "2021-03-09",
          "2021-03-11",
          "2021-03-12",
          "2021-03-13",
          "2021-03-14",
          "2021-03-15",
          "2021-03-17",
          "2021-03-19",
          "2021-03-20",
          "2021-03-21",
          "2021-03-22",
          "2021-03-23",
          "2021-03-24",
          "2021-03-25",
          "2021-03-26",
          "2021-03-27",
          "2021-03-28",
          "2021-03-29",
          "2021-03-30",
          "2021-03-31",
          "2021-04-01",
          "2021-04-02",
          "2021-04-03",
          "2021-04-04",
          "2021-04-05",
          "2021-04-06",
          "2021-04-07",
          "2021-04-08",
          "2021-04-09",
          "2021-04-10",
          "2021-04-11",
          "2021-04-12",
          "2021-04-13",
          "2021-04-14",
          "2021-04-15",
          "2021-04-16",
          "2021-04-17",
          "2021-04-18",
          "2021-04-19",
          "2021-04-20",
          "2021-04-21"
         ],
         "xaxis": "x",
         "y": [
          20,
          1,
          5,
          2,
          8,
          6,
          3,
          8,
          4,
          4,
          17,
          3,
          5,
          12,
          7,
          5,
          3,
          22,
          8,
          15,
          17,
          14,
          20,
          20,
          24,
          36,
          39,
          51,
          31,
          48,
          71,
          62,
          62,
          71,
          78,
          114,
          83,
          108,
          144,
          104,
          378,
          389,
          621,
          763,
          620,
          665,
          475
         ],
         "yaxis": "y"
        },
        {
         "hovertemplate": "city=Noida<br>Date=%{x}<br>counts=%{y}<extra></extra>",
         "legendgroup": "Noida",
         "line": {
          "color": "#FFA15A",
          "dash": "solid"
         },
         "mode": "lines",
         "name": "Noida",
         "orientation": "v",
         "showlegend": true,
         "type": "scatter",
         "x": [
          "2021-03-02",
          "2021-03-08",
          "2021-03-11",
          "2021-03-15",
          "2021-03-25",
          "2021-03-28",
          "2021-03-30",
          "2021-03-31",
          "2021-04-01",
          "2021-04-02",
          "2021-04-03",
          "2021-04-04",
          "2021-04-05",
          "2021-04-06",
          "2021-04-07",
          "2021-04-08",
          "2021-04-09",
          "2021-04-10",
          "2021-04-11",
          "2021-04-12",
          "2021-04-13",
          "2021-04-14",
          "2021-04-15",
          "2021-04-16",
          "2021-04-17",
          "2021-04-18",
          "2021-04-19",
          "2021-04-20",
          "2021-04-21"
         ],
         "xaxis": "x",
         "y": [
          2,
          4,
          1,
          1,
          1,
          4,
          1,
          5,
          5,
          5,
          3,
          7,
          9,
          17,
          6,
          20,
          13,
          21,
          3,
          20,
          17,
          28,
          60,
          105,
          122,
          247,
          78,
          123,
          24
         ],
         "yaxis": "y"
        },
        {
         "hovertemplate": "city=Varanasi<br>Date=%{x}<br>counts=%{y}<extra></extra>",
         "legendgroup": "Varanasi",
         "line": {
          "color": "#19d3f3",
          "dash": "solid"
         },
         "mode": "lines",
         "name": "Varanasi",
         "orientation": "v",
         "showlegend": true,
         "type": "scatter",
         "x": [
          "2021-03-02",
          "2021-03-25",
          "2021-03-31",
          "2021-04-03",
          "2021-04-08",
          "2021-04-09",
          "2021-04-10",
          "2021-04-11",
          "2021-04-12",
          "2021-04-13",
          "2021-04-14",
          "2021-04-15",
          "2021-04-16",
          "2021-04-17",
          "2021-04-18",
          "2021-04-19",
          "2021-04-20",
          "2021-04-21"
         ],
         "xaxis": "x",
         "y": [
          2,
          3,
          1,
          1,
          1,
          1,
          1,
          1,
          1,
          8,
          5,
          5,
          13,
          11,
          39,
          39,
          98,
          51
         ],
         "yaxis": "y"
        },
        {
         "hovertemplate": "city=Jaipur<br>Date=%{x}<br>counts=%{y}<extra></extra>",
         "legendgroup": "Jaipur",
         "line": {
          "color": "#FF6692",
          "dash": "solid"
         },
         "mode": "lines",
         "name": "Jaipur",
         "orientation": "v",
         "showlegend": true,
         "type": "scatter",
         "x": [
          "2021-03-02",
          "2021-03-04",
          "2021-03-16",
          "2021-03-20",
          "2021-03-22",
          "2021-03-23",
          "2021-03-27",
          "2021-03-28",
          "2021-03-30",
          "2021-04-06",
          "2021-04-07",
          "2021-04-08",
          "2021-04-09",
          "2021-04-10",
          "2021-04-11",
          "2021-04-12",
          "2021-04-13",
          "2021-04-14",
          "2021-04-15",
          "2021-04-16",
          "2021-04-17",
          "2021-04-18",
          "2021-04-19",
          "2021-04-20",
          "2021-04-21"
         ],
         "xaxis": "x",
         "y": [
          1,
          1,
          1,
          1,
          7,
          3,
          3,
          5,
          2,
          2,
          7,
          5,
          2,
          12,
          7,
          5,
          12,
          13,
          15,
          32,
          21,
          35,
          34,
          42,
          9
         ],
         "yaxis": "y"
        },
        {
         "hovertemplate": "city=Lucknow<br>Date=%{x}<br>counts=%{y}<extra></extra>",
         "legendgroup": "Lucknow",
         "line": {
          "color": "#B6E880",
          "dash": "solid"
         },
         "mode": "lines",
         "name": "Lucknow",
         "orientation": "v",
         "showlegend": true,
         "type": "scatter",
         "x": [
          "2021-03-03",
          "2021-03-05",
          "2021-03-07",
          "2021-03-08",
          "2021-03-09",
          "2021-03-11",
          "2021-03-12",
          "2021-03-13",
          "2021-03-14",
          "2021-03-17",
          "2021-03-19",
          "2021-03-21",
          "2021-03-23",
          "2021-03-25",
          "2021-03-26",
          "2021-03-30",
          "2021-04-01",
          "2021-04-04",
          "2021-04-05",
          "2021-04-06",
          "2021-04-07",
          "2021-04-08",
          "2021-04-09",
          "2021-04-10",
          "2021-04-11",
          "2021-04-12",
          "2021-04-13",
          "2021-04-14",
          "2021-04-15",
          "2021-04-16",
          "2021-04-17",
          "2021-04-18",
          "2021-04-19",
          "2021-04-20",
          "2021-04-21"
         ],
         "xaxis": "x",
         "y": [
          2,
          12,
          2,
          2,
          1,
          1,
          1,
          1,
          1,
          2,
          2,
          3,
          1,
          2,
          1,
          1,
          2,
          2,
          1,
          2,
          15,
          13,
          10,
          7,
          9,
          28,
          10,
          15,
          20,
          26,
          48,
          128,
          92,
          142,
          36
         ],
         "yaxis": "y"
        },
        {
         "hovertemplate": "city=Ghaziabad<br>Date=%{x}<br>counts=%{y}<extra></extra>",
         "legendgroup": "Ghaziabad",
         "line": {
          "color": "#FF97FF",
          "dash": "solid"
         },
         "mode": "lines",
         "name": "Ghaziabad",
         "orientation": "v",
         "showlegend": true,
         "type": "scatter",
         "x": [
          "2021-03-09",
          "2021-03-15",
          "2021-03-21",
          "2021-03-22",
          "2021-03-25",
          "2021-03-26",
          "2021-03-27",
          "2021-03-28",
          "2021-03-30",
          "2021-03-31",
          "2021-04-01",
          "2021-04-02",
          "2021-04-03",
          "2021-04-05",
          "2021-04-06",
          "2021-04-07",
          "2021-04-08",
          "2021-04-09",
          "2021-04-10",
          "2021-04-11",
          "2021-04-12",
          "2021-04-13",
          "2021-04-14",
          "2021-04-15",
          "2021-04-16",
          "2021-04-17",
          "2021-04-18",
          "2021-04-19",
          "2021-04-20",
          "2021-04-21"
         ],
         "xaxis": "x",
         "y": [
          1,
          1,
          1,
          3,
          4,
          1,
          1,
          1,
          1,
          10,
          7,
          1,
          3,
          1,
          5,
          10,
          12,
          8,
          14,
          13,
          7,
          13,
          17,
          77,
          33,
          50,
          63,
          65,
          56,
          22
         ],
         "yaxis": "y"
        },
        {
         "hovertemplate": "city=Faridabad<br>Date=%{x}<br>counts=%{y}<extra></extra>",
         "legendgroup": "Faridabad",
         "line": {
          "color": "#FECB52",
          "dash": "solid"
         },
         "mode": "lines",
         "name": "Faridabad",
         "orientation": "v",
         "showlegend": true,
         "type": "scatter",
         "x": [
          "2021-03-14",
          "2021-03-20",
          "2021-03-25",
          "2021-03-26",
          "2021-04-06",
          "2021-04-07",
          "2021-04-08",
          "2021-04-09",
          "2021-04-10",
          "2021-04-11",
          "2021-04-12",
          "2021-04-13",
          "2021-04-14",
          "2021-04-15",
          "2021-04-16",
          "2021-04-17",
          "2021-04-18",
          "2021-04-19",
          "2021-04-20",
          "2021-04-21"
         ],
         "xaxis": "x",
         "y": [
          1,
          5,
          1,
          1,
          1,
          4,
          11,
          5,
          15,
          15,
          7,
          5,
          16,
          21,
          21,
          38,
          70,
          41,
          74,
          19
         ],
         "yaxis": "y"
        }
       ],
       "layout": {
        "legend": {
         "title": {
          "text": "city"
         },
         "tracegroupgap": 0
        },
        "margin": {
         "t": 60
        },
        "template": {
         "data": {
          "bar": [
           {
            "error_x": {
             "color": "#2a3f5f"
            },
            "error_y": {
             "color": "#2a3f5f"
            },
            "marker": {
             "line": {
              "color": "#E5ECF6",
              "width": 0.5
             }
            },
            "type": "bar"
           }
          ],
          "barpolar": [
           {
            "marker": {
             "line": {
              "color": "#E5ECF6",
              "width": 0.5
             }
            },
            "type": "barpolar"
           }
          ],
          "carpet": [
           {
            "aaxis": {
             "endlinecolor": "#2a3f5f",
             "gridcolor": "white",
             "linecolor": "white",
             "minorgridcolor": "white",
             "startlinecolor": "#2a3f5f"
            },
            "baxis": {
             "endlinecolor": "#2a3f5f",
             "gridcolor": "white",
             "linecolor": "white",
             "minorgridcolor": "white",
             "startlinecolor": "#2a3f5f"
            },
            "type": "carpet"
           }
          ],
          "choropleth": [
           {
            "colorbar": {
             "outlinewidth": 0,
             "ticks": ""
            },
            "type": "choropleth"
           }
          ],
          "contour": [
           {
            "colorbar": {
             "outlinewidth": 0,
             "ticks": ""
            },
            "colorscale": [
             [
              0,
              "#0d0887"
             ],
             [
              0.1111111111111111,
              "#46039f"
             ],
             [
              0.2222222222222222,
              "#7201a8"
             ],
             [
              0.3333333333333333,
              "#9c179e"
             ],
             [
              0.4444444444444444,
              "#bd3786"
             ],
             [
              0.5555555555555556,
              "#d8576b"
             ],
             [
              0.6666666666666666,
              "#ed7953"
             ],
             [
              0.7777777777777778,
              "#fb9f3a"
             ],
             [
              0.8888888888888888,
              "#fdca26"
             ],
             [
              1,
              "#f0f921"
             ]
            ],
            "type": "contour"
           }
          ],
          "contourcarpet": [
           {
            "colorbar": {
             "outlinewidth": 0,
             "ticks": ""
            },
            "type": "contourcarpet"
           }
          ],
          "heatmap": [
           {
            "colorbar": {
             "outlinewidth": 0,
             "ticks": ""
            },
            "colorscale": [
             [
              0,
              "#0d0887"
             ],
             [
              0.1111111111111111,
              "#46039f"
             ],
             [
              0.2222222222222222,
              "#7201a8"
             ],
             [
              0.3333333333333333,
              "#9c179e"
             ],
             [
              0.4444444444444444,
              "#bd3786"
             ],
             [
              0.5555555555555556,
              "#d8576b"
             ],
             [
              0.6666666666666666,
              "#ed7953"
             ],
             [
              0.7777777777777778,
              "#fb9f3a"
             ],
             [
              0.8888888888888888,
              "#fdca26"
             ],
             [
              1,
              "#f0f921"
             ]
            ],
            "type": "heatmap"
           }
          ],
          "heatmapgl": [
           {
            "colorbar": {
             "outlinewidth": 0,
             "ticks": ""
            },
            "colorscale": [
             [
              0,
              "#0d0887"
             ],
             [
              0.1111111111111111,
              "#46039f"
             ],
             [
              0.2222222222222222,
              "#7201a8"
             ],
             [
              0.3333333333333333,
              "#9c179e"
             ],
             [
              0.4444444444444444,
              "#bd3786"
             ],
             [
              0.5555555555555556,
              "#d8576b"
             ],
             [
              0.6666666666666666,
              "#ed7953"
             ],
             [
              0.7777777777777778,
              "#fb9f3a"
             ],
             [
              0.8888888888888888,
              "#fdca26"
             ],
             [
              1,
              "#f0f921"
             ]
            ],
            "type": "heatmapgl"
           }
          ],
          "histogram": [
           {
            "marker": {
             "colorbar": {
              "outlinewidth": 0,
              "ticks": ""
             }
            },
            "type": "histogram"
           }
          ],
          "histogram2d": [
           {
            "colorbar": {
             "outlinewidth": 0,
             "ticks": ""
            },
            "colorscale": [
             [
              0,
              "#0d0887"
             ],
             [
              0.1111111111111111,
              "#46039f"
             ],
             [
              0.2222222222222222,
              "#7201a8"
             ],
             [
              0.3333333333333333,
              "#9c179e"
             ],
             [
              0.4444444444444444,
              "#bd3786"
             ],
             [
              0.5555555555555556,
              "#d8576b"
             ],
             [
              0.6666666666666666,
              "#ed7953"
             ],
             [
              0.7777777777777778,
              "#fb9f3a"
             ],
             [
              0.8888888888888888,
              "#fdca26"
             ],
             [
              1,
              "#f0f921"
             ]
            ],
            "type": "histogram2d"
           }
          ],
          "histogram2dcontour": [
           {
            "colorbar": {
             "outlinewidth": 0,
             "ticks": ""
            },
            "colorscale": [
             [
              0,
              "#0d0887"
             ],
             [
              0.1111111111111111,
              "#46039f"
             ],
             [
              0.2222222222222222,
              "#7201a8"
             ],
             [
              0.3333333333333333,
              "#9c179e"
             ],
             [
              0.4444444444444444,
              "#bd3786"
             ],
             [
              0.5555555555555556,
              "#d8576b"
             ],
             [
              0.6666666666666666,
              "#ed7953"
             ],
             [
              0.7777777777777778,
              "#fb9f3a"
             ],
             [
              0.8888888888888888,
              "#fdca26"
             ],
             [
              1,
              "#f0f921"
             ]
            ],
            "type": "histogram2dcontour"
           }
          ],
          "mesh3d": [
           {
            "colorbar": {
             "outlinewidth": 0,
             "ticks": ""
            },
            "type": "mesh3d"
           }
          ],
          "parcoords": [
           {
            "line": {
             "colorbar": {
              "outlinewidth": 0,
              "ticks": ""
             }
            },
            "type": "parcoords"
           }
          ],
          "pie": [
           {
            "automargin": true,
            "type": "pie"
           }
          ],
          "scatter": [
           {
            "marker": {
             "colorbar": {
              "outlinewidth": 0,
              "ticks": ""
             }
            },
            "type": "scatter"
           }
          ],
          "scatter3d": [
           {
            "line": {
             "colorbar": {
              "outlinewidth": 0,
              "ticks": ""
             }
            },
            "marker": {
             "colorbar": {
              "outlinewidth": 0,
              "ticks": ""
             }
            },
            "type": "scatter3d"
           }
          ],
          "scattercarpet": [
           {
            "marker": {
             "colorbar": {
              "outlinewidth": 0,
              "ticks": ""
             }
            },
            "type": "scattercarpet"
           }
          ],
          "scattergeo": [
           {
            "marker": {
             "colorbar": {
              "outlinewidth": 0,
              "ticks": ""
             }
            },
            "type": "scattergeo"
           }
          ],
          "scattergl": [
           {
            "marker": {
             "colorbar": {
              "outlinewidth": 0,
              "ticks": ""
             }
            },
            "type": "scattergl"
           }
          ],
          "scattermapbox": [
           {
            "marker": {
             "colorbar": {
              "outlinewidth": 0,
              "ticks": ""
             }
            },
            "type": "scattermapbox"
           }
          ],
          "scatterpolar": [
           {
            "marker": {
             "colorbar": {
              "outlinewidth": 0,
              "ticks": ""
             }
            },
            "type": "scatterpolar"
           }
          ],
          "scatterpolargl": [
           {
            "marker": {
             "colorbar": {
              "outlinewidth": 0,
              "ticks": ""
             }
            },
            "type": "scatterpolargl"
           }
          ],
          "scatterternary": [
           {
            "marker": {
             "colorbar": {
              "outlinewidth": 0,
              "ticks": ""
             }
            },
            "type": "scatterternary"
           }
          ],
          "surface": [
           {
            "colorbar": {
             "outlinewidth": 0,
             "ticks": ""
            },
            "colorscale": [
             [
              0,
              "#0d0887"
             ],
             [
              0.1111111111111111,
              "#46039f"
             ],
             [
              0.2222222222222222,
              "#7201a8"
             ],
             [
              0.3333333333333333,
              "#9c179e"
             ],
             [
              0.4444444444444444,
              "#bd3786"
             ],
             [
              0.5555555555555556,
              "#d8576b"
             ],
             [
              0.6666666666666666,
              "#ed7953"
             ],
             [
              0.7777777777777778,
              "#fb9f3a"
             ],
             [
              0.8888888888888888,
              "#fdca26"
             ],
             [
              1,
              "#f0f921"
             ]
            ],
            "type": "surface"
           }
          ],
          "table": [
           {
            "cells": {
             "fill": {
              "color": "#EBF0F8"
             },
             "line": {
              "color": "white"
             }
            },
            "header": {
             "fill": {
              "color": "#C8D4E3"
             },
             "line": {
              "color": "white"
             }
            },
            "type": "table"
           }
          ]
         },
         "layout": {
          "annotationdefaults": {
           "arrowcolor": "#2a3f5f",
           "arrowhead": 0,
           "arrowwidth": 1
          },
          "autotypenumbers": "strict",
          "coloraxis": {
           "colorbar": {
            "outlinewidth": 0,
            "ticks": ""
           }
          },
          "colorscale": {
           "diverging": [
            [
             0,
             "#8e0152"
            ],
            [
             0.1,
             "#c51b7d"
            ],
            [
             0.2,
             "#de77ae"
            ],
            [
             0.3,
             "#f1b6da"
            ],
            [
             0.4,
             "#fde0ef"
            ],
            [
             0.5,
             "#f7f7f7"
            ],
            [
             0.6,
             "#e6f5d0"
            ],
            [
             0.7,
             "#b8e186"
            ],
            [
             0.8,
             "#7fbc41"
            ],
            [
             0.9,
             "#4d9221"
            ],
            [
             1,
             "#276419"
            ]
           ],
           "sequential": [
            [
             0,
             "#0d0887"
            ],
            [
             0.1111111111111111,
             "#46039f"
            ],
            [
             0.2222222222222222,
             "#7201a8"
            ],
            [
             0.3333333333333333,
             "#9c179e"
            ],
            [
             0.4444444444444444,
             "#bd3786"
            ],
            [
             0.5555555555555556,
             "#d8576b"
            ],
            [
             0.6666666666666666,
             "#ed7953"
            ],
            [
             0.7777777777777778,
             "#fb9f3a"
            ],
            [
             0.8888888888888888,
             "#fdca26"
            ],
            [
             1,
             "#f0f921"
            ]
           ],
           "sequentialminus": [
            [
             0,
             "#0d0887"
            ],
            [
             0.1111111111111111,
             "#46039f"
            ],
            [
             0.2222222222222222,
             "#7201a8"
            ],
            [
             0.3333333333333333,
             "#9c179e"
            ],
            [
             0.4444444444444444,
             "#bd3786"
            ],
            [
             0.5555555555555556,
             "#d8576b"
            ],
            [
             0.6666666666666666,
             "#ed7953"
            ],
            [
             0.7777777777777778,
             "#fb9f3a"
            ],
            [
             0.8888888888888888,
             "#fdca26"
            ],
            [
             1,
             "#f0f921"
            ]
           ]
          },
          "colorway": [
           "#636efa",
           "#EF553B",
           "#00cc96",
           "#ab63fa",
           "#FFA15A",
           "#19d3f3",
           "#FF6692",
           "#B6E880",
           "#FF97FF",
           "#FECB52"
          ],
          "font": {
           "color": "#2a3f5f"
          },
          "geo": {
           "bgcolor": "white",
           "lakecolor": "white",
           "landcolor": "#E5ECF6",
           "showlakes": true,
           "showland": true,
           "subunitcolor": "white"
          },
          "hoverlabel": {
           "align": "left"
          },
          "hovermode": "closest",
          "mapbox": {
           "style": "light"
          },
          "paper_bgcolor": "white",
          "plot_bgcolor": "#E5ECF6",
          "polar": {
           "angularaxis": {
            "gridcolor": "white",
            "linecolor": "white",
            "ticks": ""
           },
           "bgcolor": "#E5ECF6",
           "radialaxis": {
            "gridcolor": "white",
            "linecolor": "white",
            "ticks": ""
           }
          },
          "scene": {
           "xaxis": {
            "backgroundcolor": "#E5ECF6",
            "gridcolor": "white",
            "gridwidth": 2,
            "linecolor": "white",
            "showbackground": true,
            "ticks": "",
            "zerolinecolor": "white"
           },
           "yaxis": {
            "backgroundcolor": "#E5ECF6",
            "gridcolor": "white",
            "gridwidth": 2,
            "linecolor": "white",
            "showbackground": true,
            "ticks": "",
            "zerolinecolor": "white"
           },
           "zaxis": {
            "backgroundcolor": "#E5ECF6",
            "gridcolor": "white",
            "gridwidth": 2,
            "linecolor": "white",
            "showbackground": true,
            "ticks": "",
            "zerolinecolor": "white"
           }
          },
          "shapedefaults": {
           "line": {
            "color": "#2a3f5f"
           }
          },
          "ternary": {
           "aaxis": {
            "gridcolor": "white",
            "linecolor": "white",
            "ticks": ""
           },
           "baxis": {
            "gridcolor": "white",
            "linecolor": "white",
            "ticks": ""
           },
           "bgcolor": "#E5ECF6",
           "caxis": {
            "gridcolor": "white",
            "linecolor": "white",
            "ticks": ""
           }
          },
          "title": {
           "x": 0.05
          },
          "xaxis": {
           "automargin": true,
           "gridcolor": "white",
           "linecolor": "white",
           "ticks": "",
           "title": {
            "standoff": 15
           },
           "zerolinecolor": "white",
           "zerolinewidth": 2
          },
          "yaxis": {
           "automargin": true,
           "gridcolor": "white",
           "linecolor": "white",
           "ticks": "",
           "title": {
            "standoff": 15
           },
           "zerolinecolor": "white",
           "zerolinewidth": 2
          }
         }
        },
        "xaxis": {
         "anchor": "y",
         "domain": [
          0,
          1
         ],
         "title": {
          "text": "Date"
         }
        },
        "yaxis": {
         "anchor": "x",
         "domain": [
          0,
          1
         ],
         "title": {
          "text": "counts"
         }
        }
       }
      },
      "text/html": [
       "<div>                            <div id=\"e9d2ec29-7f79-4bba-94e0-4c6e54f467ba\" class=\"plotly-graph-div\" style=\"height:525px; width:100%;\"></div>            <script type=\"text/javascript\">                require([\"plotly\"], function(Plotly) {                    window.PLOTLYENV=window.PLOTLYENV || {};                                    if (document.getElementById(\"e9d2ec29-7f79-4bba-94e0-4c6e54f467ba\")) {                    Plotly.newPlot(                        \"e9d2ec29-7f79-4bba-94e0-4c6e54f467ba\",                        [{\"hovertemplate\": \"city=Hyderabad<br>Date=%{x}<br>counts=%{y}<extra></extra>\", \"legendgroup\": \"Hyderabad\", \"line\": {\"color\": \"#636efa\", \"dash\": \"solid\"}, \"mode\": \"lines\", \"name\": \"Hyderabad\", \"orientation\": \"v\", \"showlegend\": true, \"type\": \"scatter\", \"x\": [\"2021-03-01\", \"2021-03-02\", \"2021-03-03\", \"2021-03-04\", \"2021-03-05\", \"2021-03-06\", \"2021-03-07\", \"2021-03-08\", \"2021-03-09\", \"2021-03-10\", \"2021-03-11\", \"2021-03-12\", \"2021-03-13\", \"2021-03-14\", \"2021-03-15\", \"2021-03-16\", \"2021-03-17\", \"2021-03-19\", \"2021-03-20\", \"2021-03-21\", \"2021-03-22\", \"2021-03-23\", \"2021-03-24\", \"2021-03-25\", \"2021-03-26\", \"2021-03-27\", \"2021-03-28\", \"2021-03-29\", \"2021-03-30\", \"2021-03-31\", \"2021-04-01\", \"2021-04-02\", \"2021-04-03\", \"2021-04-04\", \"2021-04-05\", \"2021-04-06\", \"2021-04-07\", \"2021-04-08\", \"2021-04-09\", \"2021-04-10\", \"2021-04-11\", \"2021-04-12\", \"2021-04-13\", \"2021-04-14\", \"2021-04-15\", \"2021-04-16\", \"2021-04-17\", \"2021-04-18\", \"2021-04-19\", \"2021-04-20\", \"2021-04-21\"], \"xaxis\": \"x\", \"y\": [4, 28, 30, 6, 12, 7, 6, 6, 21, 13, 8, 8, 8, 12, 5, 13, 23, 8, 17, 28, 22, 20, 26, 19, 16, 23, 13, 16, 19, 35, 20, 21, 32, 28, 28, 35, 39, 33, 22, 26, 32, 18, 38, 40, 55, 78, 104, 89, 68, 89, 33], \"yaxis\": \"y\"}, {\"hovertemplate\": \"city=Mumbai<br>Date=%{x}<br>counts=%{y}<extra></extra>\", \"legendgroup\": \"Mumbai\", \"line\": {\"color\": \"#EF553B\", \"dash\": \"solid\"}, \"mode\": \"lines\", \"name\": \"Mumbai\", \"orientation\": \"v\", \"showlegend\": true, \"type\": \"scatter\", \"x\": [\"2021-03-01\", \"2021-03-02\", \"2021-03-05\", \"2021-03-06\", \"2021-03-07\", \"2021-03-08\", \"2021-03-09\", \"2021-03-10\", \"2021-03-11\", \"2021-03-12\", \"2021-03-13\", \"2021-03-14\", \"2021-03-15\", \"2021-03-16\", \"2021-03-17\", \"2021-03-19\", \"2021-03-20\", \"2021-03-21\", \"2021-03-22\", \"2021-03-23\", \"2021-03-24\", \"2021-03-25\", \"2021-03-26\", \"2021-03-27\", \"2021-03-28\", \"2021-03-29\", \"2021-03-30\", \"2021-03-31\", \"2021-04-01\", \"2021-04-02\", \"2021-04-03\", \"2021-04-04\", \"2021-04-05\", \"2021-04-06\", \"2021-04-07\", \"2021-04-08\", \"2021-04-09\", \"2021-04-10\", \"2021-04-11\", \"2021-04-12\", \"2021-04-13\", \"2021-04-14\", \"2021-04-15\", \"2021-04-16\", \"2021-04-17\", \"2021-04-18\", \"2021-04-19\", \"2021-04-20\", \"2021-04-21\"], \"xaxis\": \"x\", \"y\": [4, 4, 9, 2, 1, 3, 5, 17, 3, 3, 2, 1, 4, 7, 3, 4, 4, 4, 17, 10, 12, 17, 14, 13, 15, 19, 21, 15, 22, 12, 16, 32, 12, 31, 32, 43, 32, 25, 28, 17, 47, 27, 29, 60, 71, 100, 98, 107, 27], \"yaxis\": \"y\"}, {\"hovertemplate\": \"city=Pune<br>Date=%{x}<br>counts=%{y}<extra></extra>\", \"legendgroup\": \"Pune\", \"line\": {\"color\": \"#00cc96\", \"dash\": \"solid\"}, \"mode\": \"lines\", \"name\": \"Pune\", \"orientation\": \"v\", \"showlegend\": true, \"type\": \"scatter\", \"x\": [\"2021-03-01\", \"2021-03-02\", \"2021-03-03\", \"2021-03-04\", \"2021-03-05\", \"2021-03-06\", \"2021-03-07\", \"2021-03-08\", \"2021-03-09\", \"2021-03-10\", \"2021-03-11\", \"2021-03-12\", \"2021-03-13\", \"2021-03-14\", \"2021-03-15\", \"2021-03-16\", \"2021-03-17\", \"2021-03-19\", \"2021-03-20\", \"2021-03-21\", \"2021-03-22\", \"2021-03-23\", \"2021-03-24\", \"2021-03-25\", \"2021-03-26\", \"2021-03-27\", \"2021-03-28\", \"2021-03-29\", \"2021-03-30\", \"2021-03-31\", \"2021-04-01\", \"2021-04-02\", \"2021-04-03\", \"2021-04-04\", \"2021-04-05\", \"2021-04-06\", \"2021-04-07\", \"2021-04-08\", \"2021-04-09\", \"2021-04-10\", \"2021-04-11\", \"2021-04-12\", \"2021-04-13\", \"2021-04-14\", \"2021-04-15\", \"2021-04-16\", \"2021-04-17\", \"2021-04-18\", \"2021-04-19\", \"2021-04-20\", \"2021-04-21\"], \"xaxis\": \"x\", \"y\": [3, 15, 18, 5, 10, 15, 5, 2, 14, 19, 3, 8, 7, 8, 8, 4, 11, 13, 17, 8, 8, 40, 13, 11, 39, 15, 27, 7, 10, 7, 25, 16, 17, 26, 29, 23, 37, 17, 9, 20, 25, 37, 36, 36, 23, 77, 39, 68, 73, 58, 8], \"yaxis\": \"y\"}, {\"hovertemplate\": \"city=Delhi<br>Date=%{x}<br>counts=%{y}<extra></extra>\", \"legendgroup\": \"Delhi\", \"line\": {\"color\": \"#ab63fa\", \"dash\": \"solid\"}, \"mode\": \"lines\", \"name\": \"Delhi\", \"orientation\": \"v\", \"showlegend\": true, \"type\": \"scatter\", \"x\": [\"2021-03-02\", \"2021-03-03\", \"2021-03-04\", \"2021-03-05\", \"2021-03-06\", \"2021-03-08\", \"2021-03-09\", \"2021-03-11\", \"2021-03-12\", \"2021-03-13\", \"2021-03-14\", \"2021-03-15\", \"2021-03-17\", \"2021-03-19\", \"2021-03-20\", \"2021-03-21\", \"2021-03-22\", \"2021-03-23\", \"2021-03-24\", \"2021-03-25\", \"2021-03-26\", \"2021-03-27\", \"2021-03-28\", \"2021-03-29\", \"2021-03-30\", \"2021-03-31\", \"2021-04-01\", \"2021-04-02\", \"2021-04-03\", \"2021-04-04\", \"2021-04-05\", \"2021-04-06\", \"2021-04-07\", \"2021-04-08\", \"2021-04-09\", \"2021-04-10\", \"2021-04-11\", \"2021-04-12\", \"2021-04-13\", \"2021-04-14\", \"2021-04-15\", \"2021-04-16\", \"2021-04-17\", \"2021-04-18\", \"2021-04-19\", \"2021-04-20\", \"2021-04-21\"], \"xaxis\": \"x\", \"y\": [20, 1, 5, 2, 8, 6, 3, 8, 4, 4, 17, 3, 5, 12, 7, 5, 3, 22, 8, 15, 17, 14, 20, 20, 24, 36, 39, 51, 31, 48, 71, 62, 62, 71, 78, 114, 83, 108, 144, 104, 378, 389, 621, 763, 620, 665, 475], \"yaxis\": \"y\"}, {\"hovertemplate\": \"city=Noida<br>Date=%{x}<br>counts=%{y}<extra></extra>\", \"legendgroup\": \"Noida\", \"line\": {\"color\": \"#FFA15A\", \"dash\": \"solid\"}, \"mode\": \"lines\", \"name\": \"Noida\", \"orientation\": \"v\", \"showlegend\": true, \"type\": \"scatter\", \"x\": [\"2021-03-02\", \"2021-03-08\", \"2021-03-11\", \"2021-03-15\", \"2021-03-25\", \"2021-03-28\", \"2021-03-30\", \"2021-03-31\", \"2021-04-01\", \"2021-04-02\", \"2021-04-03\", \"2021-04-04\", \"2021-04-05\", \"2021-04-06\", \"2021-04-07\", \"2021-04-08\", \"2021-04-09\", \"2021-04-10\", \"2021-04-11\", \"2021-04-12\", \"2021-04-13\", \"2021-04-14\", \"2021-04-15\", \"2021-04-16\", \"2021-04-17\", \"2021-04-18\", \"2021-04-19\", \"2021-04-20\", \"2021-04-21\"], \"xaxis\": \"x\", \"y\": [2, 4, 1, 1, 1, 4, 1, 5, 5, 5, 3, 7, 9, 17, 6, 20, 13, 21, 3, 20, 17, 28, 60, 105, 122, 247, 78, 123, 24], \"yaxis\": \"y\"}, {\"hovertemplate\": \"city=Varanasi<br>Date=%{x}<br>counts=%{y}<extra></extra>\", \"legendgroup\": \"Varanasi\", \"line\": {\"color\": \"#19d3f3\", \"dash\": \"solid\"}, \"mode\": \"lines\", \"name\": \"Varanasi\", \"orientation\": \"v\", \"showlegend\": true, \"type\": \"scatter\", \"x\": [\"2021-03-02\", \"2021-03-25\", \"2021-03-31\", \"2021-04-03\", \"2021-04-08\", \"2021-04-09\", \"2021-04-10\", \"2021-04-11\", \"2021-04-12\", \"2021-04-13\", \"2021-04-14\", \"2021-04-15\", \"2021-04-16\", \"2021-04-17\", \"2021-04-18\", \"2021-04-19\", \"2021-04-20\", \"2021-04-21\"], \"xaxis\": \"x\", \"y\": [2, 3, 1, 1, 1, 1, 1, 1, 1, 8, 5, 5, 13, 11, 39, 39, 98, 51], \"yaxis\": \"y\"}, {\"hovertemplate\": \"city=Jaipur<br>Date=%{x}<br>counts=%{y}<extra></extra>\", \"legendgroup\": \"Jaipur\", \"line\": {\"color\": \"#FF6692\", \"dash\": \"solid\"}, \"mode\": \"lines\", \"name\": \"Jaipur\", \"orientation\": \"v\", \"showlegend\": true, \"type\": \"scatter\", \"x\": [\"2021-03-02\", \"2021-03-04\", \"2021-03-16\", \"2021-03-20\", \"2021-03-22\", \"2021-03-23\", \"2021-03-27\", \"2021-03-28\", \"2021-03-30\", \"2021-04-06\", \"2021-04-07\", \"2021-04-08\", \"2021-04-09\", \"2021-04-10\", \"2021-04-11\", \"2021-04-12\", \"2021-04-13\", \"2021-04-14\", \"2021-04-15\", \"2021-04-16\", \"2021-04-17\", \"2021-04-18\", \"2021-04-19\", \"2021-04-20\", \"2021-04-21\"], \"xaxis\": \"x\", \"y\": [1, 1, 1, 1, 7, 3, 3, 5, 2, 2, 7, 5, 2, 12, 7, 5, 12, 13, 15, 32, 21, 35, 34, 42, 9], \"yaxis\": \"y\"}, {\"hovertemplate\": \"city=Lucknow<br>Date=%{x}<br>counts=%{y}<extra></extra>\", \"legendgroup\": \"Lucknow\", \"line\": {\"color\": \"#B6E880\", \"dash\": \"solid\"}, \"mode\": \"lines\", \"name\": \"Lucknow\", \"orientation\": \"v\", \"showlegend\": true, \"type\": \"scatter\", \"x\": [\"2021-03-03\", \"2021-03-05\", \"2021-03-07\", \"2021-03-08\", \"2021-03-09\", \"2021-03-11\", \"2021-03-12\", \"2021-03-13\", \"2021-03-14\", \"2021-03-17\", \"2021-03-19\", \"2021-03-21\", \"2021-03-23\", \"2021-03-25\", \"2021-03-26\", \"2021-03-30\", \"2021-04-01\", \"2021-04-04\", \"2021-04-05\", \"2021-04-06\", \"2021-04-07\", \"2021-04-08\", \"2021-04-09\", \"2021-04-10\", \"2021-04-11\", \"2021-04-12\", \"2021-04-13\", \"2021-04-14\", \"2021-04-15\", \"2021-04-16\", \"2021-04-17\", \"2021-04-18\", \"2021-04-19\", \"2021-04-20\", \"2021-04-21\"], \"xaxis\": \"x\", \"y\": [2, 12, 2, 2, 1, 1, 1, 1, 1, 2, 2, 3, 1, 2, 1, 1, 2, 2, 1, 2, 15, 13, 10, 7, 9, 28, 10, 15, 20, 26, 48, 128, 92, 142, 36], \"yaxis\": \"y\"}, {\"hovertemplate\": \"city=Ghaziabad<br>Date=%{x}<br>counts=%{y}<extra></extra>\", \"legendgroup\": \"Ghaziabad\", \"line\": {\"color\": \"#FF97FF\", \"dash\": \"solid\"}, \"mode\": \"lines\", \"name\": \"Ghaziabad\", \"orientation\": \"v\", \"showlegend\": true, \"type\": \"scatter\", \"x\": [\"2021-03-09\", \"2021-03-15\", \"2021-03-21\", \"2021-03-22\", \"2021-03-25\", \"2021-03-26\", \"2021-03-27\", \"2021-03-28\", \"2021-03-30\", \"2021-03-31\", \"2021-04-01\", \"2021-04-02\", \"2021-04-03\", \"2021-04-05\", \"2021-04-06\", \"2021-04-07\", \"2021-04-08\", \"2021-04-09\", \"2021-04-10\", \"2021-04-11\", \"2021-04-12\", \"2021-04-13\", \"2021-04-14\", \"2021-04-15\", \"2021-04-16\", \"2021-04-17\", \"2021-04-18\", \"2021-04-19\", \"2021-04-20\", \"2021-04-21\"], \"xaxis\": \"x\", \"y\": [1, 1, 1, 3, 4, 1, 1, 1, 1, 10, 7, 1, 3, 1, 5, 10, 12, 8, 14, 13, 7, 13, 17, 77, 33, 50, 63, 65, 56, 22], \"yaxis\": \"y\"}, {\"hovertemplate\": \"city=Faridabad<br>Date=%{x}<br>counts=%{y}<extra></extra>\", \"legendgroup\": \"Faridabad\", \"line\": {\"color\": \"#FECB52\", \"dash\": \"solid\"}, \"mode\": \"lines\", \"name\": \"Faridabad\", \"orientation\": \"v\", \"showlegend\": true, \"type\": \"scatter\", \"x\": [\"2021-03-14\", \"2021-03-20\", \"2021-03-25\", \"2021-03-26\", \"2021-04-06\", \"2021-04-07\", \"2021-04-08\", \"2021-04-09\", \"2021-04-10\", \"2021-04-11\", \"2021-04-12\", \"2021-04-13\", \"2021-04-14\", \"2021-04-15\", \"2021-04-16\", \"2021-04-17\", \"2021-04-18\", \"2021-04-19\", \"2021-04-20\", \"2021-04-21\"], \"xaxis\": \"x\", \"y\": [1, 5, 1, 1, 1, 4, 11, 5, 15, 15, 7, 5, 16, 21, 21, 38, 70, 41, 74, 19], \"yaxis\": \"y\"}],                        {\"legend\": {\"title\": {\"text\": \"city\"}, \"tracegroupgap\": 0}, \"margin\": {\"t\": 60}, \"template\": {\"data\": {\"bar\": [{\"error_x\": {\"color\": \"#2a3f5f\"}, \"error_y\": {\"color\": \"#2a3f5f\"}, \"marker\": {\"line\": {\"color\": \"#E5ECF6\", \"width\": 0.5}}, \"type\": \"bar\"}], \"barpolar\": [{\"marker\": {\"line\": {\"color\": \"#E5ECF6\", \"width\": 0.5}}, \"type\": \"barpolar\"}], \"carpet\": [{\"aaxis\": {\"endlinecolor\": \"#2a3f5f\", \"gridcolor\": \"white\", \"linecolor\": \"white\", \"minorgridcolor\": \"white\", \"startlinecolor\": \"#2a3f5f\"}, \"baxis\": {\"endlinecolor\": \"#2a3f5f\", \"gridcolor\": \"white\", \"linecolor\": \"white\", \"minorgridcolor\": \"white\", \"startlinecolor\": \"#2a3f5f\"}, \"type\": \"carpet\"}], \"choropleth\": [{\"colorbar\": {\"outlinewidth\": 0, \"ticks\": \"\"}, \"type\": \"choropleth\"}], \"contour\": [{\"colorbar\": {\"outlinewidth\": 0, \"ticks\": \"\"}, \"colorscale\": [[0.0, \"#0d0887\"], [0.1111111111111111, \"#46039f\"], [0.2222222222222222, \"#7201a8\"], [0.3333333333333333, \"#9c179e\"], [0.4444444444444444, \"#bd3786\"], [0.5555555555555556, \"#d8576b\"], [0.6666666666666666, \"#ed7953\"], [0.7777777777777778, \"#fb9f3a\"], [0.8888888888888888, \"#fdca26\"], [1.0, \"#f0f921\"]], \"type\": \"contour\"}], \"contourcarpet\": [{\"colorbar\": {\"outlinewidth\": 0, \"ticks\": \"\"}, \"type\": \"contourcarpet\"}], \"heatmap\": [{\"colorbar\": {\"outlinewidth\": 0, \"ticks\": \"\"}, \"colorscale\": [[0.0, \"#0d0887\"], [0.1111111111111111, \"#46039f\"], [0.2222222222222222, \"#7201a8\"], [0.3333333333333333, \"#9c179e\"], [0.4444444444444444, \"#bd3786\"], [0.5555555555555556, \"#d8576b\"], [0.6666666666666666, \"#ed7953\"], [0.7777777777777778, \"#fb9f3a\"], [0.8888888888888888, \"#fdca26\"], [1.0, \"#f0f921\"]], \"type\": \"heatmap\"}], \"heatmapgl\": [{\"colorbar\": {\"outlinewidth\": 0, \"ticks\": \"\"}, \"colorscale\": [[0.0, \"#0d0887\"], [0.1111111111111111, \"#46039f\"], [0.2222222222222222, \"#7201a8\"], [0.3333333333333333, \"#9c179e\"], [0.4444444444444444, \"#bd3786\"], [0.5555555555555556, \"#d8576b\"], [0.6666666666666666, \"#ed7953\"], [0.7777777777777778, \"#fb9f3a\"], [0.8888888888888888, \"#fdca26\"], [1.0, \"#f0f921\"]], \"type\": \"heatmapgl\"}], \"histogram\": [{\"marker\": {\"colorbar\": {\"outlinewidth\": 0, \"ticks\": \"\"}}, \"type\": \"histogram\"}], \"histogram2d\": [{\"colorbar\": {\"outlinewidth\": 0, \"ticks\": \"\"}, \"colorscale\": [[0.0, \"#0d0887\"], [0.1111111111111111, \"#46039f\"], [0.2222222222222222, \"#7201a8\"], [0.3333333333333333, \"#9c179e\"], [0.4444444444444444, \"#bd3786\"], [0.5555555555555556, \"#d8576b\"], [0.6666666666666666, \"#ed7953\"], [0.7777777777777778, \"#fb9f3a\"], [0.8888888888888888, \"#fdca26\"], [1.0, \"#f0f921\"]], \"type\": \"histogram2d\"}], \"histogram2dcontour\": [{\"colorbar\": {\"outlinewidth\": 0, \"ticks\": \"\"}, \"colorscale\": [[0.0, \"#0d0887\"], [0.1111111111111111, \"#46039f\"], [0.2222222222222222, \"#7201a8\"], [0.3333333333333333, \"#9c179e\"], [0.4444444444444444, \"#bd3786\"], [0.5555555555555556, \"#d8576b\"], [0.6666666666666666, \"#ed7953\"], [0.7777777777777778, \"#fb9f3a\"], [0.8888888888888888, \"#fdca26\"], [1.0, \"#f0f921\"]], \"type\": \"histogram2dcontour\"}], \"mesh3d\": [{\"colorbar\": {\"outlinewidth\": 0, \"ticks\": \"\"}, \"type\": \"mesh3d\"}], \"parcoords\": [{\"line\": {\"colorbar\": {\"outlinewidth\": 0, \"ticks\": \"\"}}, \"type\": \"parcoords\"}], \"pie\": [{\"automargin\": true, \"type\": \"pie\"}], \"scatter\": [{\"marker\": {\"colorbar\": {\"outlinewidth\": 0, \"ticks\": \"\"}}, \"type\": \"scatter\"}], \"scatter3d\": [{\"line\": {\"colorbar\": {\"outlinewidth\": 0, \"ticks\": \"\"}}, \"marker\": {\"colorbar\": {\"outlinewidth\": 0, \"ticks\": \"\"}}, \"type\": \"scatter3d\"}], \"scattercarpet\": [{\"marker\": {\"colorbar\": {\"outlinewidth\": 0, \"ticks\": \"\"}}, \"type\": \"scattercarpet\"}], \"scattergeo\": [{\"marker\": {\"colorbar\": {\"outlinewidth\": 0, \"ticks\": \"\"}}, \"type\": \"scattergeo\"}], \"scattergl\": [{\"marker\": {\"colorbar\": {\"outlinewidth\": 0, \"ticks\": \"\"}}, \"type\": \"scattergl\"}], \"scattermapbox\": [{\"marker\": {\"colorbar\": {\"outlinewidth\": 0, \"ticks\": \"\"}}, \"type\": \"scattermapbox\"}], \"scatterpolar\": [{\"marker\": {\"colorbar\": {\"outlinewidth\": 0, \"ticks\": \"\"}}, \"type\": \"scatterpolar\"}], \"scatterpolargl\": [{\"marker\": {\"colorbar\": {\"outlinewidth\": 0, \"ticks\": \"\"}}, \"type\": \"scatterpolargl\"}], \"scatterternary\": [{\"marker\": {\"colorbar\": {\"outlinewidth\": 0, \"ticks\": \"\"}}, \"type\": \"scatterternary\"}], \"surface\": [{\"colorbar\": {\"outlinewidth\": 0, \"ticks\": \"\"}, \"colorscale\": [[0.0, \"#0d0887\"], [0.1111111111111111, \"#46039f\"], [0.2222222222222222, \"#7201a8\"], [0.3333333333333333, \"#9c179e\"], [0.4444444444444444, \"#bd3786\"], [0.5555555555555556, \"#d8576b\"], [0.6666666666666666, \"#ed7953\"], [0.7777777777777778, \"#fb9f3a\"], [0.8888888888888888, \"#fdca26\"], [1.0, \"#f0f921\"]], \"type\": \"surface\"}], \"table\": [{\"cells\": {\"fill\": {\"color\": \"#EBF0F8\"}, \"line\": {\"color\": \"white\"}}, \"header\": {\"fill\": {\"color\": \"#C8D4E3\"}, \"line\": {\"color\": \"white\"}}, \"type\": \"table\"}]}, \"layout\": {\"annotationdefaults\": {\"arrowcolor\": \"#2a3f5f\", \"arrowhead\": 0, \"arrowwidth\": 1}, \"autotypenumbers\": \"strict\", \"coloraxis\": {\"colorbar\": {\"outlinewidth\": 0, \"ticks\": \"\"}}, \"colorscale\": {\"diverging\": [[0, \"#8e0152\"], [0.1, \"#c51b7d\"], [0.2, \"#de77ae\"], [0.3, \"#f1b6da\"], [0.4, \"#fde0ef\"], [0.5, \"#f7f7f7\"], [0.6, \"#e6f5d0\"], [0.7, \"#b8e186\"], [0.8, \"#7fbc41\"], [0.9, \"#4d9221\"], [1, \"#276419\"]], \"sequential\": [[0.0, \"#0d0887\"], [0.1111111111111111, \"#46039f\"], [0.2222222222222222, \"#7201a8\"], [0.3333333333333333, \"#9c179e\"], [0.4444444444444444, \"#bd3786\"], [0.5555555555555556, \"#d8576b\"], [0.6666666666666666, \"#ed7953\"], [0.7777777777777778, \"#fb9f3a\"], [0.8888888888888888, \"#fdca26\"], [1.0, \"#f0f921\"]], \"sequentialminus\": [[0.0, \"#0d0887\"], [0.1111111111111111, \"#46039f\"], [0.2222222222222222, \"#7201a8\"], [0.3333333333333333, \"#9c179e\"], [0.4444444444444444, \"#bd3786\"], [0.5555555555555556, \"#d8576b\"], [0.6666666666666666, \"#ed7953\"], [0.7777777777777778, \"#fb9f3a\"], [0.8888888888888888, \"#fdca26\"], [1.0, \"#f0f921\"]]}, \"colorway\": [\"#636efa\", \"#EF553B\", \"#00cc96\", \"#ab63fa\", \"#FFA15A\", \"#19d3f3\", \"#FF6692\", \"#B6E880\", \"#FF97FF\", \"#FECB52\"], \"font\": {\"color\": \"#2a3f5f\"}, \"geo\": {\"bgcolor\": \"white\", \"lakecolor\": \"white\", \"landcolor\": \"#E5ECF6\", \"showlakes\": true, \"showland\": true, \"subunitcolor\": \"white\"}, \"hoverlabel\": {\"align\": \"left\"}, \"hovermode\": \"closest\", \"mapbox\": {\"style\": \"light\"}, \"paper_bgcolor\": \"white\", \"plot_bgcolor\": \"#E5ECF6\", \"polar\": {\"angularaxis\": {\"gridcolor\": \"white\", \"linecolor\": \"white\", \"ticks\": \"\"}, \"bgcolor\": \"#E5ECF6\", \"radialaxis\": {\"gridcolor\": \"white\", \"linecolor\": \"white\", \"ticks\": \"\"}}, \"scene\": {\"xaxis\": {\"backgroundcolor\": \"#E5ECF6\", \"gridcolor\": \"white\", \"gridwidth\": 2, \"linecolor\": \"white\", \"showbackground\": true, \"ticks\": \"\", \"zerolinecolor\": \"white\"}, \"yaxis\": {\"backgroundcolor\": \"#E5ECF6\", \"gridcolor\": \"white\", \"gridwidth\": 2, \"linecolor\": \"white\", \"showbackground\": true, \"ticks\": \"\", \"zerolinecolor\": \"white\"}, \"zaxis\": {\"backgroundcolor\": \"#E5ECF6\", \"gridcolor\": \"white\", \"gridwidth\": 2, \"linecolor\": \"white\", \"showbackground\": true, \"ticks\": \"\", \"zerolinecolor\": \"white\"}}, \"shapedefaults\": {\"line\": {\"color\": \"#2a3f5f\"}}, \"ternary\": {\"aaxis\": {\"gridcolor\": \"white\", \"linecolor\": \"white\", \"ticks\": \"\"}, \"baxis\": {\"gridcolor\": \"white\", \"linecolor\": \"white\", \"ticks\": \"\"}, \"bgcolor\": \"#E5ECF6\", \"caxis\": {\"gridcolor\": \"white\", \"linecolor\": \"white\", \"ticks\": \"\"}}, \"title\": {\"x\": 0.05}, \"xaxis\": {\"automargin\": true, \"gridcolor\": \"white\", \"linecolor\": \"white\", \"ticks\": \"\", \"title\": {\"standoff\": 15}, \"zerolinecolor\": \"white\", \"zerolinewidth\": 2}, \"yaxis\": {\"automargin\": true, \"gridcolor\": \"white\", \"linecolor\": \"white\", \"ticks\": \"\", \"title\": {\"standoff\": 15}, \"zerolinecolor\": \"white\", \"zerolinewidth\": 2}}}, \"xaxis\": {\"anchor\": \"y\", \"domain\": [0.0, 1.0], \"title\": {\"text\": \"Date\"}}, \"yaxis\": {\"anchor\": \"x\", \"domain\": [0.0, 1.0], \"title\": {\"text\": \"counts\"}}},                        {\"responsive\": true}                    ).then(function(){\n",
       "                            \n",
       "var gd = document.getElementById('e9d2ec29-7f79-4bba-94e0-4c6e54f467ba');\n",
       "var x = new MutationObserver(function (mutations, observer) {{\n",
       "        var display = window.getComputedStyle(gd).display;\n",
       "        if (!display || display === 'none') {{\n",
       "            console.log([gd, 'removed!']);\n",
       "            Plotly.purge(gd);\n",
       "            observer.disconnect();\n",
       "        }}\n",
       "}});\n",
       "\n",
       "// Listen for the removal of the full notebook cells\n",
       "var notebookContainer = gd.closest('#notebook-container');\n",
       "if (notebookContainer) {{\n",
       "    x.observe(notebookContainer, {childList: true});\n",
       "}}\n",
       "\n",
       "// Listen for the clearing of the current output cell\n",
       "var outputEl = gd.closest('.output');\n",
       "if (outputEl) {{\n",
       "    x.observe(outputEl, {childList: true});\n",
       "}}\n",
       "\n",
       "                        })                };                });            </script>        </div>"
      ]
     },
     "metadata": {},
     "output_type": "display_data"
    }
   ],
   "source": [
    "px.line(x='Date', y='counts', color='city',data_frame=df_new)"
   ]
  },
  {
   "cell_type": "markdown",
   "id": "chubby-messaging",
   "metadata": {},
   "source": [
    "## Can we conclude something helpful?"
   ]
  }
 ],
 "metadata": {
  "kernelspec": {
   "display_name": "Python 3",
   "language": "python",
   "name": "python3"
  },
  "language_info": {
   "codemirror_mode": {
    "name": "ipython",
    "version": 3
   },
   "file_extension": ".py",
   "mimetype": "text/x-python",
   "name": "python",
   "nbconvert_exporter": "python",
   "pygments_lexer": "ipython3",
   "version": "3.9.1"
  }
 },
 "nbformat": 4,
 "nbformat_minor": 5
}
